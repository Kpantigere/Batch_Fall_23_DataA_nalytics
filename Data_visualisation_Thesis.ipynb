{
  "nbformat": 4,
  "nbformat_minor": 0,
  "metadata": {
    "colab": {
      "provenance": [],
      "authorship_tag": "ABX9TyPl4UKZXZJuIcfkG5gShruS",
      "include_colab_link": true
    },
    "kernelspec": {
      "name": "python3",
      "display_name": "Python 3"
    },
    "language_info": {
      "name": "python"
    }
  },
  "cells": [
    {
      "cell_type": "markdown",
      "metadata": {
        "id": "view-in-github",
        "colab_type": "text"
      },
      "source": [
        "<a href=\"https://colab.research.google.com/github/Kpantigere/Batch_Fall_23_DataA_nalytics/blob/main/Data_visualisation_Thesis.ipynb\" target=\"_parent\"><img src=\"https://colab.research.google.com/assets/colab-badge.svg\" alt=\"Open In Colab\"/></a>"
      ]
    },
    {
      "cell_type": "code",
      "execution_count": 2,
      "metadata": {
        "id": "WsObB79DqtHf"
      },
      "outputs": [],
      "source": [
        "import pandas as pd\n",
        "import matplotlib.pyplot as plt\n",
        "import seaborn as sns"
      ]
    },
    {
      "cell_type": "code",
      "source": [
        "#Data\n",
        "data = {\"Utilisation\": [\"40%\", \"90%\", \"Traffic Pattern\"],\n",
        "        \"Air Cooled Chillers 1.7\":[457424.18, 1032747.25, 806690.11],\n",
        "        \"Air Cooled Chiller 2.5\":[674997.8, 1518751.65, 1186769.24],\n",
        "        \"Water Cooled Chillers 1.7\":[128078769.2, 289169230.8, 225873230.8],\n",
        "        \"Water Cooled Chillers 2.5\":[188999384.6, 425259461.5, 332295384.6]}\n",
        ""
      ],
      "metadata": {
        "id": "_mTgQNR8rHkm"
      },
      "execution_count": 3,
      "outputs": []
    },
    {
      "cell_type": "code",
      "source": [
        "#convert dictionary to pandas\n",
        "df =pd.DataFrame(data)"
      ],
      "metadata": {
        "id": "8c8S9eG8tAdA"
      },
      "execution_count": 4,
      "outputs": []
    },
    {
      "cell_type": "code",
      "source": [
        "#seaborn\n"
      ],
      "metadata": {
        "id": "KqPuWrzutPY1"
      },
      "execution_count": null,
      "outputs": []
    }
  ]
}