{
  "nbformat": 4,
  "nbformat_minor": 0,
  "metadata": {
    "colab": {
      "provenance": [],
      "include_colab_link": true
    },
    "kernelspec": {
      "name": "python3",
      "display_name": "Python 3"
    },
    "language_info": {
      "name": "python"
    }
  },
  "cells": [
    {
      "cell_type": "markdown",
      "metadata": {
        "id": "view-in-github",
        "colab_type": "text"
      },
      "source": [
        "<a href=\"https://colab.research.google.com/github/Kpantigere/Batch_Fall_23_DataA_nalytics/blob/main/Copy_of_Data_Cleaning_Basics_(ReDI_23_Fall)_UMI.ipynb\" target=\"_parent\"><img src=\"https://colab.research.google.com/assets/colab-badge.svg\" alt=\"Open In Colab\"/></a>"
      ]
    },
    {
      "cell_type": "markdown",
      "source": [
        "# Instructions\n",
        "\n",
        "This notebook is supposed to be used together with the accompanying [Google slides](https://docs.google.com/presentation/d/183XYOS0UmTWVcq_Y1fFS0CBNS1ua3lCjFgWVSJrnVS4/edit#slide=id.g2862a12327a_0_954). The examples here demonstrate how the techniques can be applied to a simple dataset."
      ],
      "metadata": {
        "id": "kKuIxGh9tcGa"
      }
    },
    {
      "cell_type": "code",
      "source": [
        "import pandas as pd\n",
        "import numpy as np\n",
        "from scipy.stats import zscore"
      ],
      "metadata": {
        "id": "BRthjtZFt1H9"
      },
      "execution_count": 97,
      "outputs": []
    },
    {
      "cell_type": "markdown",
      "source": [
        "## Load Dataset\n",
        "(For the purpose of the exercise, run the cell without unhiding it)"
      ],
      "metadata": {
        "id": "yBRzmcfavelR"
      }
    },
    {
      "cell_type": "code",
      "execution_count": 47,
      "metadata": {
        "id": "F4TK9Nw0tVNK"
      },
      "outputs": [],
      "source": [
        "# Load dataset\n",
        "data = {\n",
        "    'Name': ['Alice', 'Bob', 'Charlie', 'David', 'Eva', 'Eva'],\n",
        "    'Age': ['25', np.nan, '22', np.nan, '28', '26'],\n",
        "    'Gender': ['F', 'M', 'M', 'Male', 'Female', 'F'],\n",
        "    'Salary': ['50,000', '3.000', '55000', '70,000', '48.000', '48000'],\n",
        "    'JoiningDate': ['2021-05-15', '2022-01-10', '2020-11-20', '2023-03-05', '2019-09-12', '2019-09-12'],\n",
        "    'Bonus': ['20%', '10%', '20%', '10%', '10%', '10%'],\n",
        "    'LastYearSalary': [45000, 2500, 50000, 70000, 48000, 48000]\n",
        "}\n",
        "\n",
        "df = pd.DataFrame(data)"
      ]
    },
    {
      "cell_type": "markdown",
      "source": [
        "## Data Inspection"
      ],
      "metadata": {
        "id": "l8enlaBft0R2"
      }
    },
    {
      "cell_type": "code",
      "source": [
        "# Gather some information about the DataFrame\n",
        "df.shape"
      ],
      "metadata": {
        "id": "4zjkVl-vtyxi"
      },
      "execution_count": null,
      "outputs": []
    },
    {
      "cell_type": "code",
      "source": [
        "df.describe()"
      ],
      "metadata": {
        "id": "3Av5XdKkjJGx"
      },
      "execution_count": null,
      "outputs": []
    },
    {
      "cell_type": "code",
      "source": [
        "df.info()"
      ],
      "metadata": {
        "id": "Btl2-wj9jURm"
      },
      "execution_count": null,
      "outputs": []
    },
    {
      "cell_type": "code",
      "source": [
        "df.isna()"
      ],
      "metadata": {
        "id": "nr_KbUC1jzl-"
      },
      "execution_count": null,
      "outputs": []
    },
    {
      "cell_type": "code",
      "source": [
        "df.value_counts()"
      ],
      "metadata": {
        "id": "9bx3zTfKj3qf"
      },
      "execution_count": null,
      "outputs": []
    },
    {
      "cell_type": "code",
      "source": [
        "df.columns"
      ],
      "metadata": {
        "id": "mK39msAEkd6D"
      },
      "execution_count": null,
      "outputs": []
    },
    {
      "cell_type": "code",
      "source": [
        "df[~df.duplicated(subset=['Name'])]['Name']"
      ],
      "metadata": {
        "id": "sXHyAfM9kF8c"
      },
      "execution_count": null,
      "outputs": []
    },
    {
      "cell_type": "code",
      "source": [
        "# Show the first 6 rows of the dataframe\n",
        "df.head(6)"
      ],
      "metadata": {
        "id": "SAYHhJwcBArD"
      },
      "execution_count": null,
      "outputs": []
    },
    {
      "cell_type": "code",
      "source": [
        "# What are the unique names?\n",
        "df.nunique()"
      ],
      "metadata": {
        "id": "UXNAKCT8vNsH"
      },
      "execution_count": null,
      "outputs": []
    },
    {
      "cell_type": "markdown",
      "source": [
        "## Visualisation"
      ],
      "metadata": {
        "id": "Mc6T2iVawNjF"
      }
    },
    {
      "cell_type": "code",
      "source": [
        "import matplotlib.pyplot as plt"
      ],
      "metadata": {
        "id": "MKr291GGwQC7"
      },
      "execution_count": 31,
      "outputs": []
    },
    {
      "cell_type": "code",
      "source": [
        "# Plot a histogram of the salary\n",
        "plt.figure(figsize=(5,2.5))\n",
        "plt.hist(df['Salary'].dropna(),bins=3)\n"
      ],
      "metadata": {
        "id": "1_2QYN5uwR--"
      },
      "execution_count": null,
      "outputs": []
    },
    {
      "cell_type": "code",
      "source": [
        "# Plot a bar chart of the genders\n",
        "df['Gender'].value_counts().plot(kind='bar')"
      ],
      "metadata": {
        "id": "T65glO2zwrMu"
      },
      "execution_count": null,
      "outputs": []
    },
    {
      "cell_type": "markdown",
      "source": [
        "## Data formats"
      ],
      "metadata": {
        "id": "Gd3ePsAw3fqB"
      }
    },
    {
      "cell_type": "code",
      "source": [
        "# Convert columns ('JoiningDate') to a datetime\n",
        "df['JoiningDate'] = pd.to_datetime(df['JoiningDate'])"
      ],
      "metadata": {
        "id": "aKDKpjhD60be"
      },
      "execution_count": 70,
      "outputs": []
    },
    {
      "cell_type": "code",
      "source": [
        "# Check data types\n",
        "df.dtypes"
      ],
      "metadata": {
        "id": "orj01xpkBM68",
        "colab": {
          "base_uri": "https://localhost:8080/"
        },
        "outputId": "01735cb3-a5d1-4d66-f8aa-10780d619f37"
      },
      "execution_count": 71,
      "outputs": [
        {
          "output_type": "execute_result",
          "data": {
            "text/plain": [
              "Name                      object\n",
              "Age                       object\n",
              "Gender                    object\n",
              "Salary                    object\n",
              "JoiningDate       datetime64[ns]\n",
              "Bonus                     object\n",
              "LastYearSalary             int64\n",
              "dtype: object"
            ]
          },
          "metadata": {},
          "execution_count": 71
        }
      ]
    },
    {
      "cell_type": "code",
      "source": [
        "# Convert columns ('Age') to a numeric field\n",
        "df['Age'] = pd.to_numeric(df['Age'], errors='coerce')"
      ],
      "metadata": {
        "id": "3USFgB7uBJcX"
      },
      "execution_count": 72,
      "outputs": []
    },
    {
      "cell_type": "code",
      "source": [
        "# Check data types\n",
        "df.dtypes"
      ],
      "metadata": {
        "id": "ZaOQ0EwmB0Nc"
      },
      "execution_count": null,
      "outputs": []
    },
    {
      "cell_type": "code",
      "source": [
        "# Convert columns ('Bonus') to a proper float using rstrip\n",
        "df['Bonus'] = df['Bonus'].str.rstrip('%').astype(float)"
      ],
      "metadata": {
        "id": "v3EDy-_fB1R-"
      },
      "execution_count": 74,
      "outputs": []
    },
    {
      "cell_type": "code",
      "source": [
        "# Check data types\n",
        "df.dtypes"
      ],
      "metadata": {
        "id": "3m4EOUYaB8R-"
      },
      "execution_count": null,
      "outputs": []
    },
    {
      "cell_type": "code",
      "source": [
        "# Convert columns ('Salary') to a proper int using replace regex\n",
        "df['Salary'] = df['Salary'].str.replace('[,.]','',regex= True).astype(int)"
      ],
      "metadata": {
        "id": "fmpz2UA2B9cK"
      },
      "execution_count": 76,
      "outputs": []
    },
    {
      "cell_type": "code",
      "source": [
        "# Check data types\n",
        "df.dtypes"
      ],
      "metadata": {
        "id": "RwP4wjQ-CBOF"
      },
      "execution_count": null,
      "outputs": []
    },
    {
      "cell_type": "markdown",
      "source": [
        "## Missing Values"
      ],
      "metadata": {
        "id": "eIHr_4z4yLne"
      }
    },
    {
      "cell_type": "code",
      "source": [
        "# Which columns have missing values? How many?\n",
        "df.isnull().sum()"
      ],
      "metadata": {
        "id": "TwOGG8UzyJe4"
      },
      "execution_count": null,
      "outputs": []
    },
    {
      "cell_type": "code",
      "source": [
        "# Show which colmuns rows missing values.\n",
        "df[df['Age'].isnull()]"
      ],
      "metadata": {
        "id": "H0U0b0zTyXY6"
      },
      "execution_count": null,
      "outputs": []
    },
    {
      "cell_type": "code",
      "source": [
        "# Fill the missing values with the mode.\n",
        "mode = df['Age'].mode()[0]"
      ],
      "metadata": {
        "id": "rUSyTnbE0Z4H"
      },
      "execution_count": 88,
      "outputs": []
    },
    {
      "cell_type": "code",
      "source": [
        "df['Age'].fillna(mode, inplace=True)"
      ],
      "metadata": {
        "id": "K_clJ__InwUS"
      },
      "execution_count": 89,
      "outputs": []
    },
    {
      "cell_type": "code",
      "source": [
        "# View the dataframe again.\n",
        "df"
      ],
      "metadata": {
        "id": "MjPtg-ju0kkb"
      },
      "execution_count": null,
      "outputs": []
    },
    {
      "cell_type": "markdown",
      "source": [
        "## Drop Duplicates"
      ],
      "metadata": {
        "id": "mSVlnH8N60ut"
      }
    },
    {
      "cell_type": "code",
      "source": [
        "# Show which are the duplicated rows\n",
        "# (Note: only check for duplicates based on the name)\n",
        "df[df.duplicated(subset=['Name'],keep=False)]"
      ],
      "metadata": {
        "id": "zpO8ADek62oo"
      },
      "execution_count": null,
      "outputs": []
    },
    {
      "cell_type": "code",
      "source": [
        "# When there are duplicates, only keep the first row\n",
        "df[~df.duplicated(subset=['Name'], keep='first')]"
      ],
      "metadata": {
        "id": "dFXvJLVOCdMV"
      },
      "execution_count": null,
      "outputs": []
    },
    {
      "cell_type": "code",
      "source": [
        "# Display the dataframe again\n",
        "df"
      ],
      "metadata": {
        "id": "fujs-8J1C584"
      },
      "execution_count": null,
      "outputs": []
    },
    {
      "cell_type": "markdown",
      "source": [
        "## Outliers\n",
        "\n",
        "Note: z-score is defined:\n",
        "$$\n",
        "z = \\frac{x - \\mu}{\\sigma}\n",
        "$$\n"
      ],
      "metadata": {
        "id": "JuU48zlv8fkD"
      }
    },
    {
      "cell_type": "code",
      "source": [
        "# Calculate the z-score of each of the Salary values\n",
        "df['zscore'] = zscore(df['Salary'])"
      ],
      "metadata": {
        "id": "bm4SfjCH8esu"
      },
      "execution_count": 98,
      "outputs": []
    },
    {
      "cell_type": "code",
      "source": [
        "df_mean = df['Salary'].mean()\n",
        "df_std_dev = df['Salary'].std()\n",
        "df['Z_score1'] = (df['Salary']-df_mean)/df_std_dev"
      ],
      "metadata": {
        "id": "a0SL-Gf8tar1"
      },
      "execution_count": 113,
      "outputs": []
    },
    {
      "cell_type": "code",
      "source": [
        "df.drop(labels='is_outlier', axis=1)"
      ],
      "metadata": {
        "id": "BU8BusEDq6MJ"
      },
      "execution_count": null,
      "outputs": []
    },
    {
      "cell_type": "code",
      "source": [
        "# Define a function which returns true if the value is an outlier\n",
        "def is_outlinier(z, threshold=1):\n",
        "  return abs(z) > threshold\n"
      ],
      "metadata": {
        "id": "dXm0xhoIDq4U"
      },
      "execution_count": 124,
      "outputs": []
    },
    {
      "cell_type": "code",
      "source": [
        "df_mean = df['Salary'].mean()\n",
        "df_std_dev = df['Salary'].std()\n",
        "df['Z_score1'] = (df['Salary']-df_mean)/df_std_dev"
      ],
      "metadata": {
        "id": "SLXnmgqCwyCS"
      },
      "execution_count": 125,
      "outputs": []
    },
    {
      "cell_type": "code",
      "source": [
        "#df['zscore'] = zscore(df['Salary'])\n",
        "#df['is_outlier'] = df['zscore'].apply(is_outlinier)"
      ],
      "metadata": {
        "id": "fHz--08KsjlE"
      },
      "execution_count": 121,
      "outputs": []
    },
    {
      "cell_type": "code",
      "source": [
        "\n",
        "df"
      ],
      "metadata": {
        "id": "BMothckjtC3v"
      },
      "execution_count": null,
      "outputs": []
    },
    {
      "cell_type": "markdown",
      "source": [
        "## Data validation"
      ],
      "metadata": {
        "id": "vn6tqWnxCJYE"
      }
    },
    {
      "cell_type": "code",
      "source": [
        "# Using the .apply() method,\n",
        "# Define another function to deal with the outliers in Salary\n",
        "df['is_outlier'] = df['Z_score1'].apply(is_outlinier)"
      ],
      "metadata": {
        "id": "FUm4BWs7DyaE"
      },
      "execution_count": null,
      "outputs": []
    },
    {
      "cell_type": "code",
      "source": [
        "# View the dataframe again"
      ],
      "metadata": {
        "id": "EITN3bP2D3lJ"
      },
      "execution_count": null,
      "outputs": []
    },
    {
      "cell_type": "code",
      "source": [
        "# Using the .map() method,\n",
        "df['Gender']\n",
        "# Fix the gender column\n",
        "Gender_Map = {'M':'Male','m':'Male','Male':'Male','MALE':'Male', 'f':'Female', 'F':'Female'}\n"
      ],
      "metadata": {
        "id": "nLuoEdEUD4mc"
      },
      "execution_count": 130,
      "outputs": []
    },
    {
      "cell_type": "code",
      "source": [
        "df['Gender'] = df['Gender'].map(Gender_Map)"
      ],
      "metadata": {
        "id": "JcVhFCf60NT4"
      },
      "execution_count": 131,
      "outputs": []
    },
    {
      "cell_type": "code",
      "source": [
        "# View the dataframe again\n",
        "df = df[~df.duplicated(subset=['Name'],keep='first')]\n",
        "df"
      ],
      "metadata": {
        "id": "ZTNw9fUMD4o5"
      },
      "execution_count": null,
      "outputs": []
    },
    {
      "cell_type": "code",
      "source": [
        "# Use .describe() again\n",
        "df.describe()"
      ],
      "metadata": {
        "id": "U5NCS3ghD_ea"
      },
      "execution_count": null,
      "outputs": []
    },
    {
      "cell_type": "code",
      "source": [
        "# Plot the histogram /bar charts of the other fields\n",
        "plt.figure(figsize=(5,2.5))\n",
        "plt.hist(df['Salary'].dropna(),bins=3)\n"
      ],
      "metadata": {
        "id": "j8_ms6b_EGqe"
      },
      "execution_count": null,
      "outputs": []
    },
    {
      "cell_type": "code",
      "source": [
        "df['Salary'].value_counts().plot(kind='bar')"
      ],
      "metadata": {
        "id": "kbQDtVDv2o1i"
      },
      "execution_count": null,
      "outputs": []
    },
    {
      "cell_type": "code",
      "source": [
        "plt.bar(df['Name'], df['Salary'])\n",
        "#plt.xlabel('Name')\n",
        "#plt.ylabel('Salary')\n",
        "plt.title('Name and salary')\n",
        "plt.xticks(rotation=45)\n",
        "plt.tight_layout()\n",
        "plt.show()"
      ],
      "metadata": {
        "colab": {
          "base_uri": "https://localhost:8080/",
          "height": 487
        },
        "id": "FubA5dAB34mO",
        "outputId": "73bf5e01-b054-45ec-ce11-676117f340db"
      },
      "execution_count": 153,
      "outputs": [
        {
          "output_type": "display_data",
          "data": {
            "text/plain": [
              "<Figure size 640x480 with 1 Axes>"
            ],
            "image/png": "[encoded data removed]"
          },
          "metadata": {}
        }
      ]
    }
  ]
}