{
  "nbformat": 4,
  "nbformat_minor": 0,
  "metadata": {
    "colab": {
      "provenance": [],
      "include_colab_link": true
    },
    "kernelspec": {
      "name": "python3",
      "display_name": "Python 3"
    },
    "language_info": {
      "name": "python"
    }
  },
  "cells": [
    {
      "cell_type": "markdown",
      "metadata": {
        "id": "view-in-github",
        "colab_type": "text"
      },
      "source": [
        "<a href=\"https://colab.research.google.com/github/Kpantigere/Batch_Fall_23_DataA_nalytics/blob/main/Copy_of_Transformations_%26_Joins_in_Pandas_UMI_Class.ipynb\" target=\"_parent\"><img src=\"https://colab.research.google.com/assets/colab-badge.svg\" alt=\"Open In Colab\"/></a>"
      ]
    },
    {
      "cell_type": "markdown",
      "metadata": {
        "id": "FaOJkSl93Pf-"
      },
      "source": [
        "# Class Content\n",
        "\n",
        "1. Simple column operations\n",
        "2. Custom row-wise transformations\n",
        "3. Concatenating dataframes\n",
        "4. Joining dataframes"
      ]
    },
    {
      "cell_type": "markdown",
      "source": [
        "# Let's remember the 'cars' Dataframe:\n",
        "The dataframe contains the information of 10.000 cars. There are 9 different columns:\n",
        "- Make (Car brand, example: Ford)\n",
        "- Model (The Model of the Car, example: Focus)\n",
        "- Year (The Year in which the car was build, example: 2012)\n",
        "- Variant (The car model version showing the PS, example: 1.6 Trendline)\n",
        "- Kms (The kilometers the cars has been driven, example: 90000)\n",
        "- Price (The offered price for the car, example: 10000)\n",
        "- Doors (How many doors the car has, example: 4)\n",
        "- Kind (Type of car, example: Pick-Up)\n",
        "- Location (Where the car is located, example: Buenos Aires)"
      ],
      "metadata": {
        "id": "4hXznQ0Z1vDX"
      }
    },
    {
      "cell_type": "code",
      "metadata": {
        "id": "-0E4FRkk3Hbx"
      },
      "source": [
        "import pandas as pd\n",
        "import numpy as np\n",
        "\n",
        "# this is a hack to allow displaying more than one result per notebook cell\n",
        "from IPython.core.interactiveshell import InteractiveShell\n",
        "InteractiveShell.ast_node_interactivity = \"all\""
      ],
      "execution_count": 55,
      "outputs": []
    },
    {
      "cell_type": "code",
      "metadata": {
        "id": "eGR_FT0P3bLv"
      },
      "source": [
        "cars = pd.read_csv(\"https://raw.githubusercontent.com/juliandnl/redi_ss20/master/cars.csv\")"
      ],
      "execution_count": 56,
      "outputs": []
    },
    {
      "cell_type": "code",
      "source": [
        "cars1 = cars.copy()"
      ],
      "metadata": {
        "id": "s36O47jSWKEb"
      },
      "execution_count": 3,
      "outputs": []
    },
    {
      "cell_type": "code",
      "metadata": {
        "id": "7cSZhMr43ftD"
      },
      "source": [
        "cars1.head(4)"
      ],
      "execution_count": null,
      "outputs": []
    },
    {
      "cell_type": "markdown",
      "metadata": {
        "id": "AZlHE-nL32Qx"
      },
      "source": [
        "# Simple column operations\n",
        "\n"
      ]
    },
    {
      "cell_type": "markdown",
      "metadata": {
        "id": "vBld3XmhBU0m"
      },
      "source": [
        "### Create an empty new variable"
      ]
    },
    {
      "cell_type": "code",
      "metadata": {
        "id": "aQrlmUUv3gvB"
      },
      "source": [
        "cars1.loc[:, 'test'] = None\n"
      ],
      "execution_count": 58,
      "outputs": []
    },
    {
      "cell_type": "code",
      "source": [
        "cars1.head()"
      ],
      "metadata": {
        "id": "VC-3MGJeBSxy"
      },
      "execution_count": null,
      "outputs": []
    },
    {
      "cell_type": "markdown",
      "metadata": {
        "id": "lvS22KGRAUft"
      },
      "source": [
        "### Create a new variable with some value"
      ]
    },
    {
      "cell_type": "code",
      "source": [
        "cars1.loc[1:2, 'new_data'] = 1"
      ],
      "metadata": {
        "id": "bT3zyuP-bgEs"
      },
      "execution_count": 60,
      "outputs": []
    },
    {
      "cell_type": "code",
      "source": [
        "cars1.head()"
      ],
      "metadata": {
        "id": "Q7iBK7H3blf5"
      },
      "execution_count": null,
      "outputs": []
    },
    {
      "cell_type": "code",
      "metadata": {
        "id": "f8nsYuyB3nu5"
      },
      "source": [
        "cars1.loc[:, 'new_data'] = 1\n",
        "\n",
        "cars1.head(10)"
      ],
      "execution_count": null,
      "outputs": []
    },
    {
      "cell_type": "markdown",
      "metadata": {
        "id": "fXK0Cd1X4bwH"
      },
      "source": [
        "### Overwrite pre-existing data"
      ]
    },
    {
      "cell_type": "code",
      "metadata": {
        "id": "PZ3IOPCB4XYB"
      },
      "source": [
        "cars1['new_data'] = 2\n",
        "cars1.head()"
      ],
      "execution_count": null,
      "outputs": []
    },
    {
      "cell_type": "code",
      "metadata": {
        "id": "wBSbVqhBdSwG"
      },
      "source": [
        "import datetime\n",
        "\n",
        "# get current year\n",
        "year = datetime.date.today().year\n",
        "year\n",
        "\n",
        "# calculate YTD = years-to-date (age of the car)\n",
        "cars1.loc[:, 'YTD'] = year - cars.loc[:, 'Year']"
      ],
      "execution_count": null,
      "outputs": []
    },
    {
      "cell_type": "code",
      "source": [
        "cars1.head()"
      ],
      "metadata": {
        "id": "K0pxCyEqB0eg"
      },
      "execution_count": null,
      "outputs": []
    },
    {
      "cell_type": "markdown",
      "metadata": {
        "id": "uDbkUMH7dQet"
      },
      "source": [
        "### New column based on exisitng column"
      ]
    },
    {
      "cell_type": "code",
      "metadata": {
        "id": "UyiGzSevYobb"
      },
      "source": [
        "# Small exercise: combine the 'Make' (i.e. brand of a car) and 'Model' into a single column\n",
        "# For example, if the brand is 'Ford' and the model 'Ranger', the new columns should\n",
        "# be the string 'Ford Ranger'\n",
        "cars1['Brand Model'] = cars1['Make'] + \" \" + cars1['Model']\n",
        "cars1.head(10)"
      ],
      "execution_count": null,
      "outputs": []
    },
    {
      "cell_type": "code",
      "source": [
        "#Covert prices to euro\n",
        "cars1['Euro'] = cars1['Price']/1000\n",
        "cars1"
      ],
      "metadata": {
        "id": "uV4yjs-1CBRJ"
      },
      "execution_count": null,
      "outputs": []
    },
    {
      "cell_type": "code",
      "metadata": {
        "id": "7QFkkD9TZQH2"
      },
      "source": [
        "# Convert prices to euros\n"
      ],
      "execution_count": null,
      "outputs": []
    },
    {
      "cell_type": "code",
      "source": [
        "cars.head()"
      ],
      "metadata": {
        "id": "VIF0OOgICrNe"
      },
      "execution_count": null,
      "outputs": []
    },
    {
      "cell_type": "code",
      "metadata": {
        "id": "5qcx9SoneN0w"
      },
      "source": [
        "# Small exercise: How can we convert kilometers ('Kms') to miles to show them to our British users?\n",
        "cars1['Mph'] = cars1['Kms']/1.6\n",
        "cars1"
      ],
      "execution_count": null,
      "outputs": []
    },
    {
      "cell_type": "code",
      "source": [
        "cars1.head()"
      ],
      "metadata": {
        "id": "8bJJBtJdfC5q"
      },
      "execution_count": null,
      "outputs": []
    },
    {
      "cell_type": "code",
      "source": [
        "cars1['test'] = None\n",
        "cars1['new_data'] = 2\n",
        "cars1"
      ],
      "metadata": {
        "id": "XtaMe_ws3RlB"
      },
      "execution_count": null,
      "outputs": []
    },
    {
      "cell_type": "markdown",
      "metadata": {
        "id": "V0Dn2s_TnhCa"
      },
      "source": [
        "### Dropping one or more columns"
      ]
    },
    {
      "cell_type": "code",
      "source": [
        "cars1.head()\n",
        "cars1.drop('Euro', axis = 1)"
      ],
      "metadata": {
        "id": "xQnZB6gK9e_l"
      },
      "execution_count": null,
      "outputs": []
    },
    {
      "cell_type": "code",
      "metadata": {
        "id": "_JJux2VIaSvi"
      },
      "source": [
        "cars1 = cars1.drop(columns='test', axis = 0)\n",
        "cars1"
      ],
      "execution_count": null,
      "outputs": []
    },
    {
      "cell_type": "code",
      "source": [
        "cars1.head()"
      ],
      "metadata": {
        "id": "PQlTOybPEaZf",
        "colab": {
          "base_uri": "https://localhost:8080/",
          "height": 206
        },
        "outputId": "a4259bee-cef1-4ee8-f902-6670bda17b29"
      },
      "execution_count": 120,
      "outputs": [
        {
          "output_type": "execute_result",
          "data": {
            "text/plain": [
              "         Make   Model  Year                           Variant     Kms   Price  \\\n",
              "0  Volkswagen   Vento  2012                  2.5 Luxury 170cv   99950  360000   \n",
              "1        Ford  Ranger  2012                2.3 Cd Xl Plus 4x2  140000  320000   \n",
              "2  Volkswagen     Fox  2011                     1.6 Trendline  132000  209980   \n",
              "3        Ford  Ranger  2017  3.2 Cd Xls Tdci 200cv Automática   13000  798000   \n",
              "4  Volkswagen     Gol  2013                1.4 Power 83cv 3 p  107000  146000   \n",
              "\n",
              "   Doors       Kind           Location  YTD       Brand Model       Mph  \\\n",
              "0    4.0      Sedán            Córdoba   11  Volkswagen Vento  62468.75   \n",
              "1    2.0    Pick-Up         Entre Ríos   11       Ford Ranger  87500.00   \n",
              "2    5.0  Hatchback  Bs.as. G.b.a. Sur   12    Volkswagen Fox  82500.00   \n",
              "3    4.0    Pick-Up            Neuquén    6       Ford Ranger   8125.00   \n",
              "4    3.0  Hatchback            Córdoba   10    Volkswagen Gol  66875.00   \n",
              "\n",
              "  (test, New_Data)  \n",
              "0             None  \n",
              "1             None  \n",
              "2             None  \n",
              "3             None  \n",
              "4             None  "
            ],
            "text/html": [
              "\n",
              "  <div id=\"df-558bd6d1-1b7b-4267-8635-12ae950587c8\" class=\"colab-df-container\">\n",
              "    <div>\n",
              "<style scoped>\n",
              "    .dataframe tbody tr th:only-of-type {\n",
              "        vertical-align: middle;\n",
              "    }\n",
              "\n",
              "    .dataframe tbody tr th {\n",
              "        vertical-align: top;\n",
              "    }\n",
              "\n",
              "    .dataframe thead th {\n",
              "        text-align: right;\n",
              "    }\n",
              "</style>\n",
              "<table border=\"1\" class=\"dataframe\">\n",
              "  <thead>\n",
              "    <tr style=\"text-align: right;\">\n",
              "      <th></th>\n",
              "      <th>Make</th>\n",
              "      <th>Model</th>\n",
              "      <th>Year</th>\n",
              "      <th>Variant</th>\n",
              "      <th>Kms</th>\n",
              "      <th>Price</th>\n",
              "      <th>Doors</th>\n",
              "      <th>Kind</th>\n",
              "      <th>Location</th>\n",
              "      <th>YTD</th>\n",
              "      <th>Brand Model</th>\n",
              "      <th>Mph</th>\n",
              "      <th>(test, New_Data)</th>\n",
              "    </tr>\n",
              "  </thead>\n",
              "  <tbody>\n",
              "    <tr>\n",
              "      <th>0</th>\n",
              "      <td>Volkswagen</td>\n",
              "      <td>Vento</td>\n",
              "      <td>2012</td>\n",
              "      <td>2.5 Luxury 170cv</td>\n",
              "      <td>99950</td>\n",
              "      <td>360000</td>\n",
              "      <td>4.0</td>\n",
              "      <td>Sedán</td>\n",
              "      <td>Córdoba</td>\n",
              "      <td>11</td>\n",
              "      <td>Volkswagen Vento</td>\n",
              "      <td>62468.75</td>\n",
              "      <td>None</td>\n",
              "    </tr>\n",
              "    <tr>\n",
              "      <th>1</th>\n",
              "      <td>Ford</td>\n",
              "      <td>Ranger</td>\n",
              "      <td>2012</td>\n",
              "      <td>2.3 Cd Xl Plus 4x2</td>\n",
              "      <td>140000</td>\n",
              "      <td>320000</td>\n",
              "      <td>2.0</td>\n",
              "      <td>Pick-Up</td>\n",
              "      <td>Entre Ríos</td>\n",
              "      <td>11</td>\n",
              "      <td>Ford Ranger</td>\n",
              "      <td>87500.00</td>\n",
              "      <td>None</td>\n",
              "    </tr>\n",
              "    <tr>\n",
              "      <th>2</th>\n",
              "      <td>Volkswagen</td>\n",
              "      <td>Fox</td>\n",
              "      <td>2011</td>\n",
              "      <td>1.6 Trendline</td>\n",
              "      <td>132000</td>\n",
              "      <td>209980</td>\n",
              "      <td>5.0</td>\n",
              "      <td>Hatchback</td>\n",
              "      <td>Bs.as. G.b.a. Sur</td>\n",
              "      <td>12</td>\n",
              "      <td>Volkswagen Fox</td>\n",
              "      <td>82500.00</td>\n",
              "      <td>None</td>\n",
              "    </tr>\n",
              "    <tr>\n",
              "      <th>3</th>\n",
              "      <td>Ford</td>\n",
              "      <td>Ranger</td>\n",
              "      <td>2017</td>\n",
              "      <td>3.2 Cd Xls Tdci 200cv Automática</td>\n",
              "      <td>13000</td>\n",
              "      <td>798000</td>\n",
              "      <td>4.0</td>\n",
              "      <td>Pick-Up</td>\n",
              "      <td>Neuquén</td>\n",
              "      <td>6</td>\n",
              "      <td>Ford Ranger</td>\n",
              "      <td>8125.00</td>\n",
              "      <td>None</td>\n",
              "    </tr>\n",
              "    <tr>\n",
              "      <th>4</th>\n",
              "      <td>Volkswagen</td>\n",
              "      <td>Gol</td>\n",
              "      <td>2013</td>\n",
              "      <td>1.4 Power 83cv 3 p</td>\n",
              "      <td>107000</td>\n",
              "      <td>146000</td>\n",
              "      <td>3.0</td>\n",
              "      <td>Hatchback</td>\n",
              "      <td>Córdoba</td>\n",
              "      <td>10</td>\n",
              "      <td>Volkswagen Gol</td>\n",
              "      <td>66875.00</td>\n",
              "      <td>None</td>\n",
              "    </tr>\n",
              "  </tbody>\n",
              "</table>\n",
              "</div>\n",
              "    <div class=\"colab-df-buttons\">\n",
              "\n",
              "  <div class=\"colab-df-container\">\n",
              "    <button class=\"colab-df-convert\" onclick=\"convertToInteractive('df-558bd6d1-1b7b-4267-8635-12ae950587c8')\"\n",
              "            title=\"Convert this dataframe to an interactive table.\"\n",
              "            style=\"display:none;\">\n",
              "\n",
              "  <svg xmlns=\"http://www.w3.org/2000/svg\" height=\"24px\" viewBox=\"0 -960 960 960\">\n",
              "    <path d=\"M120-120v-720h720v720H120Zm60-500h600v-160H180v160Zm220 220h160v-160H400v160Zm0 220h160v-160H400v160ZM180-400h160v-160H180v160Zm440 0h160v-160H620v160ZM180-180h160v-160H180v160Zm440 0h160v-160H620v160Z\"/>\n",
              "  </svg>\n",
              "    </button>\n",
              "\n",
              "  <style>\n",
              "    .colab-df-container {\n",
              "      display:flex;\n",
              "      gap: 12px;\n",
              "    }\n",
              "\n",
              "    .colab-df-convert {\n",
              "      background-color: #E8F0FE;\n",
              "      border: none;\n",
              "      border-radius: 50%;\n",
              "      cursor: pointer;\n",
              "      display: none;\n",
              "      fill: #1967D2;\n",
              "      height: 32px;\n",
              "      padding: 0 0 0 0;\n",
              "      width: 32px;\n",
              "    }\n",
              "\n",
              "    .colab-df-convert:hover {\n",
              "      background-color: #E2EBFA;\n",
              "      box-shadow: 0px 1px 2px rgba(60, 64, 67, 0.3), 0px 1px 3px 1px rgba(60, 64, 67, 0.15);\n",
              "      fill: #174EA6;\n",
              "    }\n",
              "\n",
              "    .colab-df-buttons div {\n",
              "      margin-bottom: 4px;\n",
              "    }\n",
              "\n",
              "    [theme=dark] .colab-df-convert {\n",
              "      background-color: #3B4455;\n",
              "      fill: #D2E3FC;\n",
              "    }\n",
              "\n",
              "    [theme=dark] .colab-df-convert:hover {\n",
              "      background-color: #434B5C;\n",
              "      box-shadow: 0px 1px 3px 1px rgba(0, 0, 0, 0.15);\n",
              "      filter: drop-shadow(0px 1px 2px rgba(0, 0, 0, 0.3));\n",
              "      fill: #FFFFFF;\n",
              "    }\n",
              "  </style>\n",
              "\n",
              "    <script>\n",
              "      const buttonEl =\n",
              "        document.querySelector('#df-558bd6d1-1b7b-4267-8635-12ae950587c8 button.colab-df-convert');\n",
              "      buttonEl.style.display =\n",
              "        google.colab.kernel.accessAllowed ? 'block' : 'none';\n",
              "\n",
              "      async function convertToInteractive(key) {\n",
              "        const element = document.querySelector('#df-558bd6d1-1b7b-4267-8635-12ae950587c8');\n",
              "        const dataTable =\n",
              "          await google.colab.kernel.invokeFunction('convertToInteractive',\n",
              "                                                    [key], {});\n",
              "        if (!dataTable) return;\n",
              "\n",
              "        const docLinkHtml = 'Like what you see? Visit the ' +\n",
              "          '<a target=\"_blank\" href=https://colab.research.google.com/notebooks/data_table.ipynb>data table notebook</a>'\n",
              "          + ' to learn more about interactive tables.';\n",
              "        element.innerHTML = '';\n",
              "        dataTable['output_type'] = 'display_data';\n",
              "        await google.colab.output.renderOutput(dataTable, element);\n",
              "        const docLink = document.createElement('div');\n",
              "        docLink.innerHTML = docLinkHtml;\n",
              "        element.appendChild(docLink);\n",
              "      }\n",
              "    </script>\n",
              "  </div>\n",
              "\n",
              "\n",
              "<div id=\"df-6024495b-1f2c-4436-9742-b034b63e8f3d\">\n",
              "  <button class=\"colab-df-quickchart\" onclick=\"quickchart('df-6024495b-1f2c-4436-9742-b034b63e8f3d')\"\n",
              "            title=\"Suggest charts.\"\n",
              "            style=\"display:none;\">\n",
              "\n",
              "<svg xmlns=\"http://www.w3.org/2000/svg\" height=\"24px\"viewBox=\"0 0 24 24\"\n",
              "     width=\"24px\">\n",
              "    <g>\n",
              "        <path d=\"M19 3H5c-1.1 0-2 .9-2 2v14c0 1.1.9 2 2 2h14c1.1 0 2-.9 2-2V5c0-1.1-.9-2-2-2zM9 17H7v-7h2v7zm4 0h-2V7h2v10zm4 0h-2v-4h2v4z\"/>\n",
              "    </g>\n",
              "</svg>\n",
              "  </button>\n",
              "\n",
              "<style>\n",
              "  .colab-df-quickchart {\n",
              "      --bg-color: #E8F0FE;\n",
              "      --fill-color: #1967D2;\n",
              "      --hover-bg-color: #E2EBFA;\n",
              "      --hover-fill-color: #174EA6;\n",
              "      --disabled-fill-color: #AAA;\n",
              "      --disabled-bg-color: #DDD;\n",
              "  }\n",
              "\n",
              "  [theme=dark] .colab-df-quickchart {\n",
              "      --bg-color: #3B4455;\n",
              "      --fill-color: #D2E3FC;\n",
              "      --hover-bg-color: #434B5C;\n",
              "      --hover-fill-color: #FFFFFF;\n",
              "      --disabled-bg-color: #3B4455;\n",
              "      --disabled-fill-color: #666;\n",
              "  }\n",
              "\n",
              "  .colab-df-quickchart {\n",
              "    background-color: var(--bg-color);\n",
              "    border: none;\n",
              "    border-radius: 50%;\n",
              "    cursor: pointer;\n",
              "    display: none;\n",
              "    fill: var(--fill-color);\n",
              "    height: 32px;\n",
              "    padding: 0;\n",
              "    width: 32px;\n",
              "  }\n",
              "\n",
              "  .colab-df-quickchart:hover {\n",
              "    background-color: var(--hover-bg-color);\n",
              "    box-shadow: 0 1px 2px rgba(60, 64, 67, 0.3), 0 1px 3px 1px rgba(60, 64, 67, 0.15);\n",
              "    fill: var(--button-hover-fill-color);\n",
              "  }\n",
              "\n",
              "  .colab-df-quickchart-complete:disabled,\n",
              "  .colab-df-quickchart-complete:disabled:hover {\n",
              "    background-color: var(--disabled-bg-color);\n",
              "    fill: var(--disabled-fill-color);\n",
              "    box-shadow: none;\n",
              "  }\n",
              "\n",
              "  .colab-df-spinner {\n",
              "    border: 2px solid var(--fill-color);\n",
              "    border-color: transparent;\n",
              "    border-bottom-color: var(--fill-color);\n",
              "    animation:\n",
              "      spin 1s steps(1) infinite;\n",
              "  }\n",
              "\n",
              "  @keyframes spin {\n",
              "    0% {\n",
              "      border-color: transparent;\n",
              "      border-bottom-color: var(--fill-color);\n",
              "      border-left-color: var(--fill-color);\n",
              "    }\n",
              "    20% {\n",
              "      border-color: transparent;\n",
              "      border-left-color: var(--fill-color);\n",
              "      border-top-color: var(--fill-color);\n",
              "    }\n",
              "    30% {\n",
              "      border-color: transparent;\n",
              "      border-left-color: var(--fill-color);\n",
              "      border-top-color: var(--fill-color);\n",
              "      border-right-color: var(--fill-color);\n",
              "    }\n",
              "    40% {\n",
              "      border-color: transparent;\n",
              "      border-right-color: var(--fill-color);\n",
              "      border-top-color: var(--fill-color);\n",
              "    }\n",
              "    60% {\n",
              "      border-color: transparent;\n",
              "      border-right-color: var(--fill-color);\n",
              "    }\n",
              "    80% {\n",
              "      border-color: transparent;\n",
              "      border-right-color: var(--fill-color);\n",
              "      border-bottom-color: var(--fill-color);\n",
              "    }\n",
              "    90% {\n",
              "      border-color: transparent;\n",
              "      border-bottom-color: var(--fill-color);\n",
              "    }\n",
              "  }\n",
              "</style>\n",
              "\n",
              "  <script>\n",
              "    async function quickchart(key) {\n",
              "      const quickchartButtonEl =\n",
              "        document.querySelector('#' + key + ' button');\n",
              "      quickchartButtonEl.disabled = true;  // To prevent multiple clicks.\n",
              "      quickchartButtonEl.classList.add('colab-df-spinner');\n",
              "      try {\n",
              "        const charts = await google.colab.kernel.invokeFunction(\n",
              "            'suggestCharts', [key], {});\n",
              "      } catch (error) {\n",
              "        console.error('Error during call to suggestCharts:', error);\n",
              "      }\n",
              "      quickchartButtonEl.classList.remove('colab-df-spinner');\n",
              "      quickchartButtonEl.classList.add('colab-df-quickchart-complete');\n",
              "    }\n",
              "    (() => {\n",
              "      let quickchartButtonEl =\n",
              "        document.querySelector('#df-6024495b-1f2c-4436-9742-b034b63e8f3d button');\n",
              "      quickchartButtonEl.style.display =\n",
              "        google.colab.kernel.accessAllowed ? 'block' : 'none';\n",
              "    })();\n",
              "  </script>\n",
              "</div>\n",
              "    </div>\n",
              "  </div>\n"
            ]
          },
          "metadata": {},
          "execution_count": 120
        }
      ]
    },
    {
      "cell_type": "code",
      "metadata": {
        "id": "C9oocv75BpBT"
      },
      "source": [
        "cars1.drop(columns=('Euro'), inplace=True) # with inplace-parameter\n",
        "cars1"
      ],
      "execution_count": null,
      "outputs": []
    },
    {
      "cell_type": "code",
      "source": [
        "cars.head()"
      ],
      "metadata": {
        "id": "u86fo_atE0tl"
      },
      "execution_count": null,
      "outputs": []
    },
    {
      "cell_type": "code",
      "metadata": {
        "id": "u-D__hB483Mn"
      },
      "source": [
        "cars1 = cars1.drop(columns=['Brand Model', 'YTD'], axis=0)\n",
        "cars1.head(2)"
      ],
      "execution_count": null,
      "outputs": []
    },
    {
      "cell_type": "markdown",
      "metadata": {
        "id": "20Xx-efannYi"
      },
      "source": [
        "### Dropping specific rows"
      ]
    },
    {
      "cell_type": "code",
      "metadata": {
        "id": "EpgV9MNAdwdT"
      },
      "source": [
        "cars1.head(5)"
      ],
      "execution_count": null,
      "outputs": []
    },
    {
      "cell_type": "code",
      "metadata": {
        "id": "uSGjtYoVnqrX"
      },
      "source": [
        "cars1.drop(labels=[1, 2]).head(4)"
      ],
      "execution_count": null,
      "outputs": []
    },
    {
      "cell_type": "code",
      "source": [
        "# Note that cars dataset is not changed in place!\n",
        "cars1.head()\n",
        "cars1.drop(columns=['test, New_Data'], axis=0)"
      ],
      "metadata": {
        "id": "XixmglbTgYTm",
        "colab": {
          "base_uri": "https://localhost:8080/",
          "height": 544
        },
        "outputId": "b901ce95-b3e7-4c4a-ac54-1cb77960a998"
      },
      "execution_count": 127,
      "outputs": [
        {
          "output_type": "execute_result",
          "data": {
            "text/plain": [
              "         Make   Model  Year                           Variant     Kms   Price  \\\n",
              "0  Volkswagen   Vento  2012                  2.5 Luxury 170cv   99950  360000   \n",
              "1        Ford  Ranger  2012                2.3 Cd Xl Plus 4x2  140000  320000   \n",
              "2  Volkswagen     Fox  2011                     1.6 Trendline  132000  209980   \n",
              "3        Ford  Ranger  2017  3.2 Cd Xls Tdci 200cv Automática   13000  798000   \n",
              "4  Volkswagen     Gol  2013                1.4 Power 83cv 3 p  107000  146000   \n",
              "\n",
              "   Doors       Kind           Location       Mph (test, New_Data)  \n",
              "0    4.0      Sedán            Córdoba  62468.75             None  \n",
              "1    2.0    Pick-Up         Entre Ríos  87500.00             None  \n",
              "2    5.0  Hatchback  Bs.as. G.b.a. Sur  82500.00             None  \n",
              "3    4.0    Pick-Up            Neuquén   8125.00             None  \n",
              "4    3.0  Hatchback            Córdoba  66875.00             None  "
            ],
            "text/html": [
              "\n",
              "  <div id=\"df-13832c11-563a-4860-a9d1-2e927a6d2956\" class=\"colab-df-container\">\n",
              "    <div>\n",
              "<style scoped>\n",
              "    .dataframe tbody tr th:only-of-type {\n",
              "        vertical-align: middle;\n",
              "    }\n",
              "\n",
              "    .dataframe tbody tr th {\n",
              "        vertical-align: top;\n",
              "    }\n",
              "\n",
              "    .dataframe thead th {\n",
              "        text-align: right;\n",
              "    }\n",
              "</style>\n",
              "<table border=\"1\" class=\"dataframe\">\n",
              "  <thead>\n",
              "    <tr style=\"text-align: right;\">\n",
              "      <th></th>\n",
              "      <th>Make</th>\n",
              "      <th>Model</th>\n",
              "      <th>Year</th>\n",
              "      <th>Variant</th>\n",
              "      <th>Kms</th>\n",
              "      <th>Price</th>\n",
              "      <th>Doors</th>\n",
              "      <th>Kind</th>\n",
              "      <th>Location</th>\n",
              "      <th>Mph</th>\n",
              "      <th>(test, New_Data)</th>\n",
              "    </tr>\n",
              "  </thead>\n",
              "  <tbody>\n",
              "    <tr>\n",
              "      <th>0</th>\n",
              "      <td>Volkswagen</td>\n",
              "      <td>Vento</td>\n",
              "      <td>2012</td>\n",
              "      <td>2.5 Luxury 170cv</td>\n",
              "      <td>99950</td>\n",
              "      <td>360000</td>\n",
              "      <td>4.0</td>\n",
              "      <td>Sedán</td>\n",
              "      <td>Córdoba</td>\n",
              "      <td>62468.75</td>\n",
              "      <td>None</td>\n",
              "    </tr>\n",
              "    <tr>\n",
              "      <th>1</th>\n",
              "      <td>Ford</td>\n",
              "      <td>Ranger</td>\n",
              "      <td>2012</td>\n",
              "      <td>2.3 Cd Xl Plus 4x2</td>\n",
              "      <td>140000</td>\n",
              "      <td>320000</td>\n",
              "      <td>2.0</td>\n",
              "      <td>Pick-Up</td>\n",
              "      <td>Entre Ríos</td>\n",
              "      <td>87500.00</td>\n",
              "      <td>None</td>\n",
              "    </tr>\n",
              "    <tr>\n",
              "      <th>2</th>\n",
              "      <td>Volkswagen</td>\n",
              "      <td>Fox</td>\n",
              "      <td>2011</td>\n",
              "      <td>1.6 Trendline</td>\n",
              "      <td>132000</td>\n",
              "      <td>209980</td>\n",
              "      <td>5.0</td>\n",
              "      <td>Hatchback</td>\n",
              "      <td>Bs.as. G.b.a. Sur</td>\n",
              "      <td>82500.00</td>\n",
              "      <td>None</td>\n",
              "    </tr>\n",
              "    <tr>\n",
              "      <th>3</th>\n",
              "      <td>Ford</td>\n",
              "      <td>Ranger</td>\n",
              "      <td>2017</td>\n",
              "      <td>3.2 Cd Xls Tdci 200cv Automática</td>\n",
              "      <td>13000</td>\n",
              "      <td>798000</td>\n",
              "      <td>4.0</td>\n",
              "      <td>Pick-Up</td>\n",
              "      <td>Neuquén</td>\n",
              "      <td>8125.00</td>\n",
              "      <td>None</td>\n",
              "    </tr>\n",
              "    <tr>\n",
              "      <th>4</th>\n",
              "      <td>Volkswagen</td>\n",
              "      <td>Gol</td>\n",
              "      <td>2013</td>\n",
              "      <td>1.4 Power 83cv 3 p</td>\n",
              "      <td>107000</td>\n",
              "      <td>146000</td>\n",
              "      <td>3.0</td>\n",
              "      <td>Hatchback</td>\n",
              "      <td>Córdoba</td>\n",
              "      <td>66875.00</td>\n",
              "      <td>None</td>\n",
              "    </tr>\n",
              "  </tbody>\n",
              "</table>\n",
              "</div>\n",
              "    <div class=\"colab-df-buttons\">\n",
              "\n",
              "  <div class=\"colab-df-container\">\n",
              "    <button class=\"colab-df-convert\" onclick=\"convertToInteractive('df-13832c11-563a-4860-a9d1-2e927a6d2956')\"\n",
              "            title=\"Convert this dataframe to an interactive table.\"\n",
              "            style=\"display:none;\">\n",
              "\n",
              "  <svg xmlns=\"http://www.w3.org/2000/svg\" height=\"24px\" viewBox=\"0 -960 960 960\">\n",
              "    <path d=\"M120-120v-720h720v720H120Zm60-500h600v-160H180v160Zm220 220h160v-160H400v160Zm0 220h160v-160H400v160ZM180-400h160v-160H180v160Zm440 0h160v-160H620v160ZM180-180h160v-160H180v160Zm440 0h160v-160H620v160Z\"/>\n",
              "  </svg>\n",
              "    </button>\n",
              "\n",
              "  <style>\n",
              "    .colab-df-container {\n",
              "      display:flex;\n",
              "      gap: 12px;\n",
              "    }\n",
              "\n",
              "    .colab-df-convert {\n",
              "      background-color: #E8F0FE;\n",
              "      border: none;\n",
              "      border-radius: 50%;\n",
              "      cursor: pointer;\n",
              "      display: none;\n",
              "      fill: #1967D2;\n",
              "      height: 32px;\n",
              "      padding: 0 0 0 0;\n",
              "      width: 32px;\n",
              "    }\n",
              "\n",
              "    .colab-df-convert:hover {\n",
              "      background-color: #E2EBFA;\n",
              "      box-shadow: 0px 1px 2px rgba(60, 64, 67, 0.3), 0px 1px 3px 1px rgba(60, 64, 67, 0.15);\n",
              "      fill: #174EA6;\n",
              "    }\n",
              "\n",
              "    .colab-df-buttons div {\n",
              "      margin-bottom: 4px;\n",
              "    }\n",
              "\n",
              "    [theme=dark] .colab-df-convert {\n",
              "      background-color: #3B4455;\n",
              "      fill: #D2E3FC;\n",
              "    }\n",
              "\n",
              "    [theme=dark] .colab-df-convert:hover {\n",
              "      background-color: #434B5C;\n",
              "      box-shadow: 0px 1px 3px 1px rgba(0, 0, 0, 0.15);\n",
              "      filter: drop-shadow(0px 1px 2px rgba(0, 0, 0, 0.3));\n",
              "      fill: #FFFFFF;\n",
              "    }\n",
              "  </style>\n",
              "\n",
              "    <script>\n",
              "      const buttonEl =\n",
              "        document.querySelector('#df-13832c11-563a-4860-a9d1-2e927a6d2956 button.colab-df-convert');\n",
              "      buttonEl.style.display =\n",
              "        google.colab.kernel.accessAllowed ? 'block' : 'none';\n",
              "\n",
              "      async function convertToInteractive(key) {\n",
              "        const element = document.querySelector('#df-13832c11-563a-4860-a9d1-2e927a6d2956');\n",
              "        const dataTable =\n",
              "          await google.colab.kernel.invokeFunction('convertToInteractive',\n",
              "                                                    [key], {});\n",
              "        if (!dataTable) return;\n",
              "\n",
              "        const docLinkHtml = 'Like what you see? Visit the ' +\n",
              "          '<a target=\"_blank\" href=https://colab.research.google.com/notebooks/data_table.ipynb>data table notebook</a>'\n",
              "          + ' to learn more about interactive tables.';\n",
              "        element.innerHTML = '';\n",
              "        dataTable['output_type'] = 'display_data';\n",
              "        await google.colab.output.renderOutput(dataTable, element);\n",
              "        const docLink = document.createElement('div');\n",
              "        docLink.innerHTML = docLinkHtml;\n",
              "        element.appendChild(docLink);\n",
              "      }\n",
              "    </script>\n",
              "  </div>\n",
              "\n",
              "\n",
              "<div id=\"df-91553489-1160-4ca5-ad65-638c086a779a\">\n",
              "  <button class=\"colab-df-quickchart\" onclick=\"quickchart('df-91553489-1160-4ca5-ad65-638c086a779a')\"\n",
              "            title=\"Suggest charts.\"\n",
              "            style=\"display:none;\">\n",
              "\n",
              "<svg xmlns=\"http://www.w3.org/2000/svg\" height=\"24px\"viewBox=\"0 0 24 24\"\n",
              "     width=\"24px\">\n",
              "    <g>\n",
              "        <path d=\"M19 3H5c-1.1 0-2 .9-2 2v14c0 1.1.9 2 2 2h14c1.1 0 2-.9 2-2V5c0-1.1-.9-2-2-2zM9 17H7v-7h2v7zm4 0h-2V7h2v10zm4 0h-2v-4h2v4z\"/>\n",
              "    </g>\n",
              "</svg>\n",
              "  </button>\n",
              "\n",
              "<style>\n",
              "  .colab-df-quickchart {\n",
              "      --bg-color: #E8F0FE;\n",
              "      --fill-color: #1967D2;\n",
              "      --hover-bg-color: #E2EBFA;\n",
              "      --hover-fill-color: #174EA6;\n",
              "      --disabled-fill-color: #AAA;\n",
              "      --disabled-bg-color: #DDD;\n",
              "  }\n",
              "\n",
              "  [theme=dark] .colab-df-quickchart {\n",
              "      --bg-color: #3B4455;\n",
              "      --fill-color: #D2E3FC;\n",
              "      --hover-bg-color: #434B5C;\n",
              "      --hover-fill-color: #FFFFFF;\n",
              "      --disabled-bg-color: #3B4455;\n",
              "      --disabled-fill-color: #666;\n",
              "  }\n",
              "\n",
              "  .colab-df-quickchart {\n",
              "    background-color: var(--bg-color);\n",
              "    border: none;\n",
              "    border-radius: 50%;\n",
              "    cursor: pointer;\n",
              "    display: none;\n",
              "    fill: var(--fill-color);\n",
              "    height: 32px;\n",
              "    padding: 0;\n",
              "    width: 32px;\n",
              "  }\n",
              "\n",
              "  .colab-df-quickchart:hover {\n",
              "    background-color: var(--hover-bg-color);\n",
              "    box-shadow: 0 1px 2px rgba(60, 64, 67, 0.3), 0 1px 3px 1px rgba(60, 64, 67, 0.15);\n",
              "    fill: var(--button-hover-fill-color);\n",
              "  }\n",
              "\n",
              "  .colab-df-quickchart-complete:disabled,\n",
              "  .colab-df-quickchart-complete:disabled:hover {\n",
              "    background-color: var(--disabled-bg-color);\n",
              "    fill: var(--disabled-fill-color);\n",
              "    box-shadow: none;\n",
              "  }\n",
              "\n",
              "  .colab-df-spinner {\n",
              "    border: 2px solid var(--fill-color);\n",
              "    border-color: transparent;\n",
              "    border-bottom-color: var(--fill-color);\n",
              "    animation:\n",
              "      spin 1s steps(1) infinite;\n",
              "  }\n",
              "\n",
              "  @keyframes spin {\n",
              "    0% {\n",
              "      border-color: transparent;\n",
              "      border-bottom-color: var(--fill-color);\n",
              "      border-left-color: var(--fill-color);\n",
              "    }\n",
              "    20% {\n",
              "      border-color: transparent;\n",
              "      border-left-color: var(--fill-color);\n",
              "      border-top-color: var(--fill-color);\n",
              "    }\n",
              "    30% {\n",
              "      border-color: transparent;\n",
              "      border-left-color: var(--fill-color);\n",
              "      border-top-color: var(--fill-color);\n",
              "      border-right-color: var(--fill-color);\n",
              "    }\n",
              "    40% {\n",
              "      border-color: transparent;\n",
              "      border-right-color: var(--fill-color);\n",
              "      border-top-color: var(--fill-color);\n",
              "    }\n",
              "    60% {\n",
              "      border-color: transparent;\n",
              "      border-right-color: var(--fill-color);\n",
              "    }\n",
              "    80% {\n",
              "      border-color: transparent;\n",
              "      border-right-color: var(--fill-color);\n",
              "      border-bottom-color: var(--fill-color);\n",
              "    }\n",
              "    90% {\n",
              "      border-color: transparent;\n",
              "      border-bottom-color: var(--fill-color);\n",
              "    }\n",
              "  }\n",
              "</style>\n",
              "\n",
              "  <script>\n",
              "    async function quickchart(key) {\n",
              "      const quickchartButtonEl =\n",
              "        document.querySelector('#' + key + ' button');\n",
              "      quickchartButtonEl.disabled = true;  // To prevent multiple clicks.\n",
              "      quickchartButtonEl.classList.add('colab-df-spinner');\n",
              "      try {\n",
              "        const charts = await google.colab.kernel.invokeFunction(\n",
              "            'suggestCharts', [key], {});\n",
              "      } catch (error) {\n",
              "        console.error('Error during call to suggestCharts:', error);\n",
              "      }\n",
              "      quickchartButtonEl.classList.remove('colab-df-spinner');\n",
              "      quickchartButtonEl.classList.add('colab-df-quickchart-complete');\n",
              "    }\n",
              "    (() => {\n",
              "      let quickchartButtonEl =\n",
              "        document.querySelector('#df-91553489-1160-4ca5-ad65-638c086a779a button');\n",
              "      quickchartButtonEl.style.display =\n",
              "        google.colab.kernel.accessAllowed ? 'block' : 'none';\n",
              "    })();\n",
              "  </script>\n",
              "</div>\n",
              "    </div>\n",
              "  </div>\n"
            ]
          },
          "metadata": {},
          "execution_count": 127
        },
        {
          "output_type": "error",
          "ename": "KeyError",
          "evalue": "ignored",
          "traceback": [
            "\u001b[0;31m---------------------------------------------------------------------------\u001b[0m",
            "\u001b[0;31mKeyError\u001b[0m                                  Traceback (most recent call last)",
            "\u001b[0;32m<ipython-input-127-0743a0d8a71b>\u001b[0m in \u001b[0;36m<cell line: 3>\u001b[0;34m()\u001b[0m\n\u001b[1;32m      1\u001b[0m \u001b[0;31m# Note that cars dataset is not changed in place!\u001b[0m\u001b[0;34m\u001b[0m\u001b[0;34m\u001b[0m\u001b[0m\n\u001b[1;32m      2\u001b[0m \u001b[0mcars1\u001b[0m\u001b[0;34m.\u001b[0m\u001b[0mhead\u001b[0m\u001b[0;34m(\u001b[0m\u001b[0;34m)\u001b[0m\u001b[0;34m\u001b[0m\u001b[0;34m\u001b[0m\u001b[0m\n\u001b[0;32m----> 3\u001b[0;31m \u001b[0mcars1\u001b[0m\u001b[0;34m.\u001b[0m\u001b[0mdrop\u001b[0m\u001b[0;34m(\u001b[0m\u001b[0mcolumns\u001b[0m\u001b[0;34m=\u001b[0m\u001b[0;34m[\u001b[0m\u001b[0;34m'test, New_Data'\u001b[0m\u001b[0;34m]\u001b[0m\u001b[0;34m,\u001b[0m \u001b[0maxis\u001b[0m\u001b[0;34m=\u001b[0m\u001b[0;36m0\u001b[0m\u001b[0;34m)\u001b[0m\u001b[0;34m\u001b[0m\u001b[0;34m\u001b[0m\u001b[0m\n\u001b[0m",
            "\u001b[0;32m/usr/local/lib/python3.10/dist-packages/pandas/util/_decorators.py\u001b[0m in \u001b[0;36mwrapper\u001b[0;34m(*args, **kwargs)\u001b[0m\n\u001b[1;32m    329\u001b[0m                     \u001b[0mstacklevel\u001b[0m\u001b[0;34m=\u001b[0m\u001b[0mfind_stack_level\u001b[0m\u001b[0;34m(\u001b[0m\u001b[0;34m)\u001b[0m\u001b[0;34m,\u001b[0m\u001b[0;34m\u001b[0m\u001b[0;34m\u001b[0m\u001b[0m\n\u001b[1;32m    330\u001b[0m                 )\n\u001b[0;32m--> 331\u001b[0;31m             \u001b[0;32mreturn\u001b[0m \u001b[0mfunc\u001b[0m\u001b[0;34m(\u001b[0m\u001b[0;34m*\u001b[0m\u001b[0margs\u001b[0m\u001b[0;34m,\u001b[0m \u001b[0;34m**\u001b[0m\u001b[0mkwargs\u001b[0m\u001b[0;34m)\u001b[0m\u001b[0;34m\u001b[0m\u001b[0;34m\u001b[0m\u001b[0m\n\u001b[0m\u001b[1;32m    332\u001b[0m \u001b[0;34m\u001b[0m\u001b[0m\n\u001b[1;32m    333\u001b[0m         \u001b[0;31m# error: \"Callable[[VarArg(Any), KwArg(Any)], Any]\" has no\u001b[0m\u001b[0;34m\u001b[0m\u001b[0;34m\u001b[0m\u001b[0m\n",
            "\u001b[0;32m/usr/local/lib/python3.10/dist-packages/pandas/core/frame.py\u001b[0m in \u001b[0;36mdrop\u001b[0;34m(self, labels, axis, index, columns, level, inplace, errors)\u001b[0m\n\u001b[1;32m   5397\u001b[0m                 \u001b[0mweight\u001b[0m  \u001b[0;36m1.0\u001b[0m     \u001b[0;36m0.8\u001b[0m\u001b[0;34m\u001b[0m\u001b[0;34m\u001b[0m\u001b[0m\n\u001b[1;32m   5398\u001b[0m         \"\"\"\n\u001b[0;32m-> 5399\u001b[0;31m         return super().drop(\n\u001b[0m\u001b[1;32m   5400\u001b[0m             \u001b[0mlabels\u001b[0m\u001b[0;34m=\u001b[0m\u001b[0mlabels\u001b[0m\u001b[0;34m,\u001b[0m\u001b[0;34m\u001b[0m\u001b[0;34m\u001b[0m\u001b[0m\n\u001b[1;32m   5401\u001b[0m             \u001b[0maxis\u001b[0m\u001b[0;34m=\u001b[0m\u001b[0maxis\u001b[0m\u001b[0;34m,\u001b[0m\u001b[0;34m\u001b[0m\u001b[0;34m\u001b[0m\u001b[0m\n",
            "\u001b[0;32m/usr/local/lib/python3.10/dist-packages/pandas/util/_decorators.py\u001b[0m in \u001b[0;36mwrapper\u001b[0;34m(*args, **kwargs)\u001b[0m\n\u001b[1;32m    329\u001b[0m                     \u001b[0mstacklevel\u001b[0m\u001b[0;34m=\u001b[0m\u001b[0mfind_stack_level\u001b[0m\u001b[0;34m(\u001b[0m\u001b[0;34m)\u001b[0m\u001b[0;34m,\u001b[0m\u001b[0;34m\u001b[0m\u001b[0;34m\u001b[0m\u001b[0m\n\u001b[1;32m    330\u001b[0m                 )\n\u001b[0;32m--> 331\u001b[0;31m             \u001b[0;32mreturn\u001b[0m \u001b[0mfunc\u001b[0m\u001b[0;34m(\u001b[0m\u001b[0;34m*\u001b[0m\u001b[0margs\u001b[0m\u001b[0;34m,\u001b[0m \u001b[0;34m**\u001b[0m\u001b[0mkwargs\u001b[0m\u001b[0;34m)\u001b[0m\u001b[0;34m\u001b[0m\u001b[0;34m\u001b[0m\u001b[0m\n\u001b[0m\u001b[1;32m    332\u001b[0m \u001b[0;34m\u001b[0m\u001b[0m\n\u001b[1;32m    333\u001b[0m         \u001b[0;31m# error: \"Callable[[VarArg(Any), KwArg(Any)], Any]\" has no\u001b[0m\u001b[0;34m\u001b[0m\u001b[0;34m\u001b[0m\u001b[0m\n",
            "\u001b[0;32m/usr/local/lib/python3.10/dist-packages/pandas/core/generic.py\u001b[0m in \u001b[0;36mdrop\u001b[0;34m(self, labels, axis, index, columns, level, inplace, errors)\u001b[0m\n\u001b[1;32m   4503\u001b[0m         \u001b[0;32mfor\u001b[0m \u001b[0maxis\u001b[0m\u001b[0;34m,\u001b[0m \u001b[0mlabels\u001b[0m \u001b[0;32min\u001b[0m \u001b[0maxes\u001b[0m\u001b[0;34m.\u001b[0m\u001b[0mitems\u001b[0m\u001b[0;34m(\u001b[0m\u001b[0;34m)\u001b[0m\u001b[0;34m:\u001b[0m\u001b[0;34m\u001b[0m\u001b[0;34m\u001b[0m\u001b[0m\n\u001b[1;32m   4504\u001b[0m             \u001b[0;32mif\u001b[0m \u001b[0mlabels\u001b[0m \u001b[0;32mis\u001b[0m \u001b[0;32mnot\u001b[0m \u001b[0;32mNone\u001b[0m\u001b[0;34m:\u001b[0m\u001b[0;34m\u001b[0m\u001b[0;34m\u001b[0m\u001b[0m\n\u001b[0;32m-> 4505\u001b[0;31m                 \u001b[0mobj\u001b[0m \u001b[0;34m=\u001b[0m \u001b[0mobj\u001b[0m\u001b[0;34m.\u001b[0m\u001b[0m_drop_axis\u001b[0m\u001b[0;34m(\u001b[0m\u001b[0mlabels\u001b[0m\u001b[0;34m,\u001b[0m \u001b[0maxis\u001b[0m\u001b[0;34m,\u001b[0m \u001b[0mlevel\u001b[0m\u001b[0;34m=\u001b[0m\u001b[0mlevel\u001b[0m\u001b[0;34m,\u001b[0m \u001b[0merrors\u001b[0m\u001b[0;34m=\u001b[0m\u001b[0merrors\u001b[0m\u001b[0;34m)\u001b[0m\u001b[0;34m\u001b[0m\u001b[0;34m\u001b[0m\u001b[0m\n\u001b[0m\u001b[1;32m   4506\u001b[0m \u001b[0;34m\u001b[0m\u001b[0m\n\u001b[1;32m   4507\u001b[0m         \u001b[0;32mif\u001b[0m \u001b[0minplace\u001b[0m\u001b[0;34m:\u001b[0m\u001b[0;34m\u001b[0m\u001b[0;34m\u001b[0m\u001b[0m\n",
            "\u001b[0;32m/usr/local/lib/python3.10/dist-packages/pandas/core/generic.py\u001b[0m in \u001b[0;36m_drop_axis\u001b[0;34m(self, labels, axis, level, errors, only_slice)\u001b[0m\n\u001b[1;32m   4544\u001b[0m                 \u001b[0mnew_axis\u001b[0m \u001b[0;34m=\u001b[0m \u001b[0maxis\u001b[0m\u001b[0;34m.\u001b[0m\u001b[0mdrop\u001b[0m\u001b[0;34m(\u001b[0m\u001b[0mlabels\u001b[0m\u001b[0;34m,\u001b[0m \u001b[0mlevel\u001b[0m\u001b[0;34m=\u001b[0m\u001b[0mlevel\u001b[0m\u001b[0;34m,\u001b[0m \u001b[0merrors\u001b[0m\u001b[0;34m=\u001b[0m\u001b[0merrors\u001b[0m\u001b[0;34m)\u001b[0m\u001b[0;34m\u001b[0m\u001b[0;34m\u001b[0m\u001b[0m\n\u001b[1;32m   4545\u001b[0m             \u001b[0;32melse\u001b[0m\u001b[0;34m:\u001b[0m\u001b[0;34m\u001b[0m\u001b[0;34m\u001b[0m\u001b[0m\n\u001b[0;32m-> 4546\u001b[0;31m                 \u001b[0mnew_axis\u001b[0m \u001b[0;34m=\u001b[0m \u001b[0maxis\u001b[0m\u001b[0;34m.\u001b[0m\u001b[0mdrop\u001b[0m\u001b[0;34m(\u001b[0m\u001b[0mlabels\u001b[0m\u001b[0;34m,\u001b[0m \u001b[0merrors\u001b[0m\u001b[0;34m=\u001b[0m\u001b[0merrors\u001b[0m\u001b[0;34m)\u001b[0m\u001b[0;34m\u001b[0m\u001b[0;34m\u001b[0m\u001b[0m\n\u001b[0m\u001b[1;32m   4547\u001b[0m             \u001b[0mindexer\u001b[0m \u001b[0;34m=\u001b[0m \u001b[0maxis\u001b[0m\u001b[0;34m.\u001b[0m\u001b[0mget_indexer\u001b[0m\u001b[0;34m(\u001b[0m\u001b[0mnew_axis\u001b[0m\u001b[0;34m)\u001b[0m\u001b[0;34m\u001b[0m\u001b[0;34m\u001b[0m\u001b[0m\n\u001b[1;32m   4548\u001b[0m \u001b[0;34m\u001b[0m\u001b[0m\n",
            "\u001b[0;32m/usr/local/lib/python3.10/dist-packages/pandas/core/indexes/base.py\u001b[0m in \u001b[0;36mdrop\u001b[0;34m(self, labels, errors)\u001b[0m\n\u001b[1;32m   6932\u001b[0m         \u001b[0;32mif\u001b[0m \u001b[0mmask\u001b[0m\u001b[0;34m.\u001b[0m\u001b[0many\u001b[0m\u001b[0;34m(\u001b[0m\u001b[0;34m)\u001b[0m\u001b[0;34m:\u001b[0m\u001b[0;34m\u001b[0m\u001b[0;34m\u001b[0m\u001b[0m\n\u001b[1;32m   6933\u001b[0m             \u001b[0;32mif\u001b[0m \u001b[0merrors\u001b[0m \u001b[0;34m!=\u001b[0m \u001b[0;34m\"ignore\"\u001b[0m\u001b[0;34m:\u001b[0m\u001b[0;34m\u001b[0m\u001b[0;34m\u001b[0m\u001b[0m\n\u001b[0;32m-> 6934\u001b[0;31m                 \u001b[0;32mraise\u001b[0m \u001b[0mKeyError\u001b[0m\u001b[0;34m(\u001b[0m\u001b[0;34mf\"{list(labels[mask])} not found in axis\"\u001b[0m\u001b[0;34m)\u001b[0m\u001b[0;34m\u001b[0m\u001b[0;34m\u001b[0m\u001b[0m\n\u001b[0m\u001b[1;32m   6935\u001b[0m             \u001b[0mindexer\u001b[0m \u001b[0;34m=\u001b[0m \u001b[0mindexer\u001b[0m\u001b[0;34m[\u001b[0m\u001b[0;34m~\u001b[0m\u001b[0mmask\u001b[0m\u001b[0;34m]\u001b[0m\u001b[0;34m\u001b[0m\u001b[0;34m\u001b[0m\u001b[0m\n\u001b[1;32m   6936\u001b[0m         \u001b[0;32mreturn\u001b[0m \u001b[0mself\u001b[0m\u001b[0;34m.\u001b[0m\u001b[0mdelete\u001b[0m\u001b[0;34m(\u001b[0m\u001b[0mindexer\u001b[0m\u001b[0;34m)\u001b[0m\u001b[0;34m\u001b[0m\u001b[0;34m\u001b[0m\u001b[0m\n",
            "\u001b[0;31mKeyError\u001b[0m: \"['test, New_Data'] not found in axis\""
          ]
        }
      ]
    },
    {
      "cell_type": "markdown",
      "metadata": {
        "id": "j8X1sUhpKnnP"
      },
      "source": [
        "### Exercise"
      ]
    },
    {
      "cell_type": "markdown",
      "source": [
        "1. Replace the brand name 'Volkswagen' with 'VW'"
      ],
      "metadata": {
        "id": "iOztHIu9lONi"
      }
    },
    {
      "cell_type": "code",
      "source": [
        "cars1['Make'] = cars1['Make'].replace('Volkswagen', 'VW')\n",
        "cars1.head(4)"
      ],
      "metadata": {
        "id": "nhyCXh_OpDeY"
      },
      "execution_count": null,
      "outputs": []
    },
    {
      "cell_type": "markdown",
      "source": [
        "2. Let's assume the price of the Ford Ranger from 2018 in Santa Fe is incorrect. Fix the value from 730000 to 800000."
      ],
      "metadata": {
        "id": "ijUudIT_SfOX"
      }
    },
    {
      "cell_type": "code",
      "source": [
        "cars1['Brand Model'] = cars1['Make'] + \" \" + cars1['Model']\n",
        "cars_2 = cars1.loc[(cars1['Brand Model']=='Ford Ranger') & (cars1['Year']> 2012) & (cars1['Location']=='Santa Fe')]\n",
        "cars_2"
      ],
      "metadata": {
        "id": "cPzdTBIqSuMb"
      },
      "execution_count": null,
      "outputs": []
    },
    {
      "cell_type": "code",
      "source": [],
      "metadata": {
        "id": "Oyui8AdDWk-E"
      },
      "execution_count": null,
      "outputs": []
    },
    {
      "cell_type": "markdown",
      "source": [
        "3. Delete all rows from the city of 'Córdoba'\n",
        "    * Use simple filtering to create a new dataframe without those rows\n",
        "    * Try to use the 'drop' function"
      ],
      "metadata": {
        "id": "NdODC9DKlVWn"
      }
    },
    {
      "cell_type": "code",
      "source": [
        "#Delete all rows from the city of 'Córdoba'\n",
        "#Use simple filtering to create a new dataframe without those rows\n",
        "#Try to use the 'drop' function\n",
        "#Delete all rows from the city of 'Córdoba'\n",
        "#Use simple filtering to create a new dataframe without those rows\n",
        "#Try to use the 'drop' function\n",
        "Córdoba = cars1[cars1['Location']=='Córdoba'].index\n",
        "drop_Cordoba = cars1.drop(labels = Córdoba, axis=0)\n",
        "drop_Cordoba"
      ],
      "metadata": {
        "id": "88yUv_CXpD_q",
        "colab": {
          "base_uri": "https://localhost:8080/",
          "height": 423
        },
        "outputId": "189b5e5b-806a-4f4c-8e38-edc8ddbdf2ac"
      },
      "execution_count": 194,
      "outputs": [
        {
          "output_type": "execute_result",
          "data": {
            "text/plain": [
              "      Make                  Model  Year                            Variant  \\\n",
              "1     Ford                 Ranger  2012                 2.3 Cd Xl Plus 4x2   \n",
              "2       VW                    Fox  2011                      1.6 Trendline   \n",
              "3     Ford                 Ranger  2017   3.2 Cd Xls Tdci 200cv Automática   \n",
              "5       VW                 Amarok  2014  2.0 Cd Tdi 180cv 4x4 Highline C34   \n",
              "6     Ford                     Ka  2012                 1.0 Fly Viral 63cv   \n",
              "...    ...                    ...   ...                                ...   \n",
              "9995  Ford              Focus III  2016                             2.0 Se   \n",
              "9996    VW                   Bora  2012              1.9 Trendline I 100cv   \n",
              "9997  Ford  Fiesta Kinetic Design  2012          1.6 Design 120cv Titanium   \n",
              "9998  Ford  Fiesta Kinetic Design  2013          1.6 Design 120cv Titanium   \n",
              "9999  Ford              Focus III  2014                   2.0 Titanium At6   \n",
              "\n",
              "         Kms   Price  Doors       Kind               Location        Mph  \\\n",
              "1     140000  320000    2.0    Pick-Up             Entre Ríos  87500.000   \n",
              "2     132000  209980    5.0  Hatchback      Bs.as. G.b.a. Sur  82500.000   \n",
              "3      13000  798000    4.0    Pick-Up                Neuquén   8125.000   \n",
              "5     115000  790000    4.0    Pick-Up  Buenos Aires Interior  71875.000   \n",
              "6      95243  142000    3.0  Hatchback      Bs.as. G.b.a. Sur  59526.875   \n",
              "...      ...     ...    ...        ...                    ...        ...   \n",
              "9995   67000  399000    5.0  Hatchback    Bs.as. G.b.a. Oeste  41875.000   \n",
              "9996  120000  240000    4.0      Sedán  Buenos Aires Interior  75000.000   \n",
              "9997   89000  250000    5.0  Hatchback                Tucumán  55625.000   \n",
              "9998   76000  295000    5.0  Hatchback  Buenos Aires Interior  47500.000   \n",
              "9999   32000  380000    5.0  Hatchback      Bs.as. G.b.a. Sur  20000.000   \n",
              "\n",
              "     (test, New_Data)                 Brand Model  \n",
              "1                None                 Ford Ranger  \n",
              "2                None                      VW Fox  \n",
              "3                None                 Ford Ranger  \n",
              "5                None                   VW Amarok  \n",
              "6                None                     Ford Ka  \n",
              "...               ...                         ...  \n",
              "9995             None              Ford Focus III  \n",
              "9996             None                     VW Bora  \n",
              "9997             None  Ford Fiesta Kinetic Design  \n",
              "9998             None  Ford Fiesta Kinetic Design  \n",
              "9999             None              Ford Focus III  \n",
              "\n",
              "[9215 rows x 12 columns]"
            ],
            "text/html": [
              "\n",
              "  <div id=\"df-adf312a0-faec-4689-bc3a-50fcf66c9c61\" class=\"colab-df-container\">\n",
              "    <div>\n",
              "<style scoped>\n",
              "    .dataframe tbody tr th:only-of-type {\n",
              "        vertical-align: middle;\n",
              "    }\n",
              "\n",
              "    .dataframe tbody tr th {\n",
              "        vertical-align: top;\n",
              "    }\n",
              "\n",
              "    .dataframe thead th {\n",
              "        text-align: right;\n",
              "    }\n",
              "</style>\n",
              "<table border=\"1\" class=\"dataframe\">\n",
              "  <thead>\n",
              "    <tr style=\"text-align: right;\">\n",
              "      <th></th>\n",
              "      <th>Make</th>\n",
              "      <th>Model</th>\n",
              "      <th>Year</th>\n",
              "      <th>Variant</th>\n",
              "      <th>Kms</th>\n",
              "      <th>Price</th>\n",
              "      <th>Doors</th>\n",
              "      <th>Kind</th>\n",
              "      <th>Location</th>\n",
              "      <th>Mph</th>\n",
              "      <th>(test, New_Data)</th>\n",
              "      <th>Brand Model</th>\n",
              "    </tr>\n",
              "  </thead>\n",
              "  <tbody>\n",
              "    <tr>\n",
              "      <th>1</th>\n",
              "      <td>Ford</td>\n",
              "      <td>Ranger</td>\n",
              "      <td>2012</td>\n",
              "      <td>2.3 Cd Xl Plus 4x2</td>\n",
              "      <td>140000</td>\n",
              "      <td>320000</td>\n",
              "      <td>2.0</td>\n",
              "      <td>Pick-Up</td>\n",
              "      <td>Entre Ríos</td>\n",
              "      <td>87500.000</td>\n",
              "      <td>None</td>\n",
              "      <td>Ford Ranger</td>\n",
              "    </tr>\n",
              "    <tr>\n",
              "      <th>2</th>\n",
              "      <td>VW</td>\n",
              "      <td>Fox</td>\n",
              "      <td>2011</td>\n",
              "      <td>1.6 Trendline</td>\n",
              "      <td>132000</td>\n",
              "      <td>209980</td>\n",
              "      <td>5.0</td>\n",
              "      <td>Hatchback</td>\n",
              "      <td>Bs.as. G.b.a. Sur</td>\n",
              "      <td>82500.000</td>\n",
              "      <td>None</td>\n",
              "      <td>VW Fox</td>\n",
              "    </tr>\n",
              "    <tr>\n",
              "      <th>3</th>\n",
              "      <td>Ford</td>\n",
              "      <td>Ranger</td>\n",
              "      <td>2017</td>\n",
              "      <td>3.2 Cd Xls Tdci 200cv Automática</td>\n",
              "      <td>13000</td>\n",
              "      <td>798000</td>\n",
              "      <td>4.0</td>\n",
              "      <td>Pick-Up</td>\n",
              "      <td>Neuquén</td>\n",
              "      <td>8125.000</td>\n",
              "      <td>None</td>\n",
              "      <td>Ford Ranger</td>\n",
              "    </tr>\n",
              "    <tr>\n",
              "      <th>5</th>\n",
              "      <td>VW</td>\n",
              "      <td>Amarok</td>\n",
              "      <td>2014</td>\n",
              "      <td>2.0 Cd Tdi 180cv 4x4 Highline C34</td>\n",
              "      <td>115000</td>\n",
              "      <td>790000</td>\n",
              "      <td>4.0</td>\n",
              "      <td>Pick-Up</td>\n",
              "      <td>Buenos Aires Interior</td>\n",
              "      <td>71875.000</td>\n",
              "      <td>None</td>\n",
              "      <td>VW Amarok</td>\n",
              "    </tr>\n",
              "    <tr>\n",
              "      <th>6</th>\n",
              "      <td>Ford</td>\n",
              "      <td>Ka</td>\n",
              "      <td>2012</td>\n",
              "      <td>1.0 Fly Viral 63cv</td>\n",
              "      <td>95243</td>\n",
              "      <td>142000</td>\n",
              "      <td>3.0</td>\n",
              "      <td>Hatchback</td>\n",
              "      <td>Bs.as. G.b.a. Sur</td>\n",
              "      <td>59526.875</td>\n",
              "      <td>None</td>\n",
              "      <td>Ford Ka</td>\n",
              "    </tr>\n",
              "    <tr>\n",
              "      <th>...</th>\n",
              "      <td>...</td>\n",
              "      <td>...</td>\n",
              "      <td>...</td>\n",
              "      <td>...</td>\n",
              "      <td>...</td>\n",
              "      <td>...</td>\n",
              "      <td>...</td>\n",
              "      <td>...</td>\n",
              "      <td>...</td>\n",
              "      <td>...</td>\n",
              "      <td>...</td>\n",
              "      <td>...</td>\n",
              "    </tr>\n",
              "    <tr>\n",
              "      <th>9995</th>\n",
              "      <td>Ford</td>\n",
              "      <td>Focus III</td>\n",
              "      <td>2016</td>\n",
              "      <td>2.0 Se</td>\n",
              "      <td>67000</td>\n",
              "      <td>399000</td>\n",
              "      <td>5.0</td>\n",
              "      <td>Hatchback</td>\n",
              "      <td>Bs.as. G.b.a. Oeste</td>\n",
              "      <td>41875.000</td>\n",
              "      <td>None</td>\n",
              "      <td>Ford Focus III</td>\n",
              "    </tr>\n",
              "    <tr>\n",
              "      <th>9996</th>\n",
              "      <td>VW</td>\n",
              "      <td>Bora</td>\n",
              "      <td>2012</td>\n",
              "      <td>1.9 Trendline I 100cv</td>\n",
              "      <td>120000</td>\n",
              "      <td>240000</td>\n",
              "      <td>4.0</td>\n",
              "      <td>Sedán</td>\n",
              "      <td>Buenos Aires Interior</td>\n",
              "      <td>75000.000</td>\n",
              "      <td>None</td>\n",
              "      <td>VW Bora</td>\n",
              "    </tr>\n",
              "    <tr>\n",
              "      <th>9997</th>\n",
              "      <td>Ford</td>\n",
              "      <td>Fiesta Kinetic Design</td>\n",
              "      <td>2012</td>\n",
              "      <td>1.6 Design 120cv Titanium</td>\n",
              "      <td>89000</td>\n",
              "      <td>250000</td>\n",
              "      <td>5.0</td>\n",
              "      <td>Hatchback</td>\n",
              "      <td>Tucumán</td>\n",
              "      <td>55625.000</td>\n",
              "      <td>None</td>\n",
              "      <td>Ford Fiesta Kinetic Design</td>\n",
              "    </tr>\n",
              "    <tr>\n",
              "      <th>9998</th>\n",
              "      <td>Ford</td>\n",
              "      <td>Fiesta Kinetic Design</td>\n",
              "      <td>2013</td>\n",
              "      <td>1.6 Design 120cv Titanium</td>\n",
              "      <td>76000</td>\n",
              "      <td>295000</td>\n",
              "      <td>5.0</td>\n",
              "      <td>Hatchback</td>\n",
              "      <td>Buenos Aires Interior</td>\n",
              "      <td>47500.000</td>\n",
              "      <td>None</td>\n",
              "      <td>Ford Fiesta Kinetic Design</td>\n",
              "    </tr>\n",
              "    <tr>\n",
              "      <th>9999</th>\n",
              "      <td>Ford</td>\n",
              "      <td>Focus III</td>\n",
              "      <td>2014</td>\n",
              "      <td>2.0 Titanium At6</td>\n",
              "      <td>32000</td>\n",
              "      <td>380000</td>\n",
              "      <td>5.0</td>\n",
              "      <td>Hatchback</td>\n",
              "      <td>Bs.as. G.b.a. Sur</td>\n",
              "      <td>20000.000</td>\n",
              "      <td>None</td>\n",
              "      <td>Ford Focus III</td>\n",
              "    </tr>\n",
              "  </tbody>\n",
              "</table>\n",
              "<p>9215 rows × 12 columns</p>\n",
              "</div>\n",
              "    <div class=\"colab-df-buttons\">\n",
              "\n",
              "  <div class=\"colab-df-container\">\n",
              "    <button class=\"colab-df-convert\" onclick=\"convertToInteractive('df-adf312a0-faec-4689-bc3a-50fcf66c9c61')\"\n",
              "            title=\"Convert this dataframe to an interactive table.\"\n",
              "            style=\"display:none;\">\n",
              "\n",
              "  <svg xmlns=\"http://www.w3.org/2000/svg\" height=\"24px\" viewBox=\"0 -960 960 960\">\n",
              "    <path d=\"M120-120v-720h720v720H120Zm60-500h600v-160H180v160Zm220 220h160v-160H400v160Zm0 220h160v-160H400v160ZM180-400h160v-160H180v160Zm440 0h160v-160H620v160ZM180-180h160v-160H180v160Zm440 0h160v-160H620v160Z\"/>\n",
              "  </svg>\n",
              "    </button>\n",
              "\n",
              "  <style>\n",
              "    .colab-df-container {\n",
              "      display:flex;\n",
              "      gap: 12px;\n",
              "    }\n",
              "\n",
              "    .colab-df-convert {\n",
              "      background-color: #E8F0FE;\n",
              "      border: none;\n",
              "      border-radius: 50%;\n",
              "      cursor: pointer;\n",
              "      display: none;\n",
              "      fill: #1967D2;\n",
              "      height: 32px;\n",
              "      padding: 0 0 0 0;\n",
              "      width: 32px;\n",
              "    }\n",
              "\n",
              "    .colab-df-convert:hover {\n",
              "      background-color: #E2EBFA;\n",
              "      box-shadow: 0px 1px 2px rgba(60, 64, 67, 0.3), 0px 1px 3px 1px rgba(60, 64, 67, 0.15);\n",
              "      fill: #174EA6;\n",
              "    }\n",
              "\n",
              "    .colab-df-buttons div {\n",
              "      margin-bottom: 4px;\n",
              "    }\n",
              "\n",
              "    [theme=dark] .colab-df-convert {\n",
              "      background-color: #3B4455;\n",
              "      fill: #D2E3FC;\n",
              "    }\n",
              "\n",
              "    [theme=dark] .colab-df-convert:hover {\n",
              "      background-color: #434B5C;\n",
              "      box-shadow: 0px 1px 3px 1px rgba(0, 0, 0, 0.15);\n",
              "      filter: drop-shadow(0px 1px 2px rgba(0, 0, 0, 0.3));\n",
              "      fill: #FFFFFF;\n",
              "    }\n",
              "  </style>\n",
              "\n",
              "    <script>\n",
              "      const buttonEl =\n",
              "        document.querySelector('#df-adf312a0-faec-4689-bc3a-50fcf66c9c61 button.colab-df-convert');\n",
              "      buttonEl.style.display =\n",
              "        google.colab.kernel.accessAllowed ? 'block' : 'none';\n",
              "\n",
              "      async function convertToInteractive(key) {\n",
              "        const element = document.querySelector('#df-adf312a0-faec-4689-bc3a-50fcf66c9c61');\n",
              "        const dataTable =\n",
              "          await google.colab.kernel.invokeFunction('convertToInteractive',\n",
              "                                                    [key], {});\n",
              "        if (!dataTable) return;\n",
              "\n",
              "        const docLinkHtml = 'Like what you see? Visit the ' +\n",
              "          '<a target=\"_blank\" href=https://colab.research.google.com/notebooks/data_table.ipynb>data table notebook</a>'\n",
              "          + ' to learn more about interactive tables.';\n",
              "        element.innerHTML = '';\n",
              "        dataTable['output_type'] = 'display_data';\n",
              "        await google.colab.output.renderOutput(dataTable, element);\n",
              "        const docLink = document.createElement('div');\n",
              "        docLink.innerHTML = docLinkHtml;\n",
              "        element.appendChild(docLink);\n",
              "      }\n",
              "    </script>\n",
              "  </div>\n",
              "\n",
              "\n",
              "<div id=\"df-cd3ee84d-0ab1-4375-bf27-4c12ebdcb561\">\n",
              "  <button class=\"colab-df-quickchart\" onclick=\"quickchart('df-cd3ee84d-0ab1-4375-bf27-4c12ebdcb561')\"\n",
              "            title=\"Suggest charts.\"\n",
              "            style=\"display:none;\">\n",
              "\n",
              "<svg xmlns=\"http://www.w3.org/2000/svg\" height=\"24px\"viewBox=\"0 0 24 24\"\n",
              "     width=\"24px\">\n",
              "    <g>\n",
              "        <path d=\"M19 3H5c-1.1 0-2 .9-2 2v14c0 1.1.9 2 2 2h14c1.1 0 2-.9 2-2V5c0-1.1-.9-2-2-2zM9 17H7v-7h2v7zm4 0h-2V7h2v10zm4 0h-2v-4h2v4z\"/>\n",
              "    </g>\n",
              "</svg>\n",
              "  </button>\n",
              "\n",
              "<style>\n",
              "  .colab-df-quickchart {\n",
              "      --bg-color: #E8F0FE;\n",
              "      --fill-color: #1967D2;\n",
              "      --hover-bg-color: #E2EBFA;\n",
              "      --hover-fill-color: #174EA6;\n",
              "      --disabled-fill-color: #AAA;\n",
              "      --disabled-bg-color: #DDD;\n",
              "  }\n",
              "\n",
              "  [theme=dark] .colab-df-quickchart {\n",
              "      --bg-color: #3B4455;\n",
              "      --fill-color: #D2E3FC;\n",
              "      --hover-bg-color: #434B5C;\n",
              "      --hover-fill-color: #FFFFFF;\n",
              "      --disabled-bg-color: #3B4455;\n",
              "      --disabled-fill-color: #666;\n",
              "  }\n",
              "\n",
              "  .colab-df-quickchart {\n",
              "    background-color: var(--bg-color);\n",
              "    border: none;\n",
              "    border-radius: 50%;\n",
              "    cursor: pointer;\n",
              "    display: none;\n",
              "    fill: var(--fill-color);\n",
              "    height: 32px;\n",
              "    padding: 0;\n",
              "    width: 32px;\n",
              "  }\n",
              "\n",
              "  .colab-df-quickchart:hover {\n",
              "    background-color: var(--hover-bg-color);\n",
              "    box-shadow: 0 1px 2px rgba(60, 64, 67, 0.3), 0 1px 3px 1px rgba(60, 64, 67, 0.15);\n",
              "    fill: var(--button-hover-fill-color);\n",
              "  }\n",
              "\n",
              "  .colab-df-quickchart-complete:disabled,\n",
              "  .colab-df-quickchart-complete:disabled:hover {\n",
              "    background-color: var(--disabled-bg-color);\n",
              "    fill: var(--disabled-fill-color);\n",
              "    box-shadow: none;\n",
              "  }\n",
              "\n",
              "  .colab-df-spinner {\n",
              "    border: 2px solid var(--fill-color);\n",
              "    border-color: transparent;\n",
              "    border-bottom-color: var(--fill-color);\n",
              "    animation:\n",
              "      spin 1s steps(1) infinite;\n",
              "  }\n",
              "\n",
              "  @keyframes spin {\n",
              "    0% {\n",
              "      border-color: transparent;\n",
              "      border-bottom-color: var(--fill-color);\n",
              "      border-left-color: var(--fill-color);\n",
              "    }\n",
              "    20% {\n",
              "      border-color: transparent;\n",
              "      border-left-color: var(--fill-color);\n",
              "      border-top-color: var(--fill-color);\n",
              "    }\n",
              "    30% {\n",
              "      border-color: transparent;\n",
              "      border-left-color: var(--fill-color);\n",
              "      border-top-color: var(--fill-color);\n",
              "      border-right-color: var(--fill-color);\n",
              "    }\n",
              "    40% {\n",
              "      border-color: transparent;\n",
              "      border-right-color: var(--fill-color);\n",
              "      border-top-color: var(--fill-color);\n",
              "    }\n",
              "    60% {\n",
              "      border-color: transparent;\n",
              "      border-right-color: var(--fill-color);\n",
              "    }\n",
              "    80% {\n",
              "      border-color: transparent;\n",
              "      border-right-color: var(--fill-color);\n",
              "      border-bottom-color: var(--fill-color);\n",
              "    }\n",
              "    90% {\n",
              "      border-color: transparent;\n",
              "      border-bottom-color: var(--fill-color);\n",
              "    }\n",
              "  }\n",
              "</style>\n",
              "\n",
              "  <script>\n",
              "    async function quickchart(key) {\n",
              "      const quickchartButtonEl =\n",
              "        document.querySelector('#' + key + ' button');\n",
              "      quickchartButtonEl.disabled = true;  // To prevent multiple clicks.\n",
              "      quickchartButtonEl.classList.add('colab-df-spinner');\n",
              "      try {\n",
              "        const charts = await google.colab.kernel.invokeFunction(\n",
              "            'suggestCharts', [key], {});\n",
              "      } catch (error) {\n",
              "        console.error('Error during call to suggestCharts:', error);\n",
              "      }\n",
              "      quickchartButtonEl.classList.remove('colab-df-spinner');\n",
              "      quickchartButtonEl.classList.add('colab-df-quickchart-complete');\n",
              "    }\n",
              "    (() => {\n",
              "      let quickchartButtonEl =\n",
              "        document.querySelector('#df-cd3ee84d-0ab1-4375-bf27-4c12ebdcb561 button');\n",
              "      quickchartButtonEl.style.display =\n",
              "        google.colab.kernel.accessAllowed ? 'block' : 'none';\n",
              "    })();\n",
              "  </script>\n",
              "</div>\n",
              "    </div>\n",
              "  </div>\n"
            ]
          },
          "metadata": {},
          "execution_count": 194
        }
      ]
    },
    {
      "cell_type": "code",
      "source": [],
      "metadata": {
        "id": "3A4wyUj3Ohfz"
      },
      "execution_count": null,
      "outputs": []
    },
    {
      "cell_type": "markdown",
      "source": [
        "# Row transformations"
      ],
      "metadata": {
        "id": "iwjHQkcPOjrq"
      }
    },
    {
      "cell_type": "markdown",
      "source": [
        "### Simple if/else scenarios"
      ],
      "metadata": {
        "id": "9roV9DQGOjrs"
      }
    },
    {
      "cell_type": "code",
      "source": [
        "cars.loc[:, 'is_Ford_car'] = np.where(cars.loc[:, 'Make'] == 'Ford', 1, 0)\n",
        "cars.head()"
      ],
      "metadata": {
        "id": "TMN7xF6sOjrt"
      },
      "execution_count": null,
      "outputs": []
    },
    {
      "cell_type": "markdown",
      "source": [
        "### Custom transformations single column"
      ],
      "metadata": {
        "id": "XevG0dTTOjru"
      }
    },
    {
      "cell_type": "code",
      "source": [
        "def my_custom_uppercase(kind):\n",
        "  return kind.upper()\n",
        "\n",
        "cars.loc[:, 'Kind'].apply(my_custom_uppercase)"
      ],
      "metadata": {
        "id": "AQLhcd3bOjrv"
      },
      "execution_count": null,
      "outputs": []
    },
    {
      "cell_type": "code",
      "source": [
        "# 'lambda' is used to specify a so-called \"anonymous function\"\n",
        "kind_uppercased = cars.loc[:, 'Kind'].apply(lambda kind: kind.upper())\n",
        "kind_uppercased"
      ],
      "metadata": {
        "id": "Q-WZ7AxyOjrx"
      },
      "execution_count": null,
      "outputs": []
    },
    {
      "cell_type": "code",
      "source": [
        "cars.loc[:, 'kind_upper'] = kind_uppercased\n",
        "cars.head()"
      ],
      "metadata": {
        "id": "2NalJ15KOjrx"
      },
      "execution_count": null,
      "outputs": []
    },
    {
      "cell_type": "markdown",
      "source": [
        "### Custom transformations on the whole row"
      ],
      "metadata": {
        "id": "sLJ32Ya3Ojry"
      }
    },
    {
      "cell_type": "code",
      "source": [
        "avg_price = cars.loc[:, 'Price'].mean()\n",
        "\n",
        "def classify_car_quality(car_row):\n",
        "  car_quality = None\n",
        "\n",
        "  if car_row['Year'] > 2015 and car_row['Price'] < avg_price:\n",
        "    car_quality = 'good'\n",
        "  else:\n",
        "    car_quality = 'bad'\n",
        "\n",
        "  return car_quality\n",
        "\n",
        "# use custom 'def' function for complex scenarios\n",
        "cars.loc[:, 'car_quality'] = cars.apply(classify_car_quality, axis=1)\n",
        "cars.head()"
      ],
      "metadata": {
        "id": "3ChzCtG5Ojrz"
      },
      "execution_count": null,
      "outputs": []
    },
    {
      "cell_type": "code",
      "source": [
        "# use custom lamdba function for simple scenarios\n",
        "cars.loc[:, 'car_quality'] = cars.apply(lambda row: 'good' if row['Year'] > 2015 and row['Price'] < avg_price else 'bad', axis=1)\n",
        "cars.head()"
      ],
      "metadata": {
        "id": "_HQGT75oOjr0"
      },
      "execution_count": null,
      "outputs": []
    },
    {
      "cell_type": "code",
      "source": [
        "car_quality_filter = (cars.loc[:, 'Year'] > 2015) & (cars.loc[:, 'Price'] < avg_price)\n",
        "\n",
        "# use built-in functionality whenever available\n",
        "cars.loc[:, 'car_quality'] = np.where(car_quality_filter, 'good', 'bad')\n",
        "cars.head()"
      ],
      "metadata": {
        "id": "pIISobcdOjr0"
      },
      "execution_count": null,
      "outputs": []
    },
    {
      "cell_type": "markdown",
      "metadata": {
        "id": "o0QATbPZG55Q"
      },
      "source": [
        "# Concatenating dataframes\n",
        "\n",
        "\n",
        "```\n",
        "pd.concat()\n",
        "```\n",
        "\n"
      ]
    },
    {
      "cell_type": "code",
      "source": [
        "cars.shape"
      ],
      "metadata": {
        "id": "tBhcrRANRRj2"
      },
      "execution_count": null,
      "outputs": []
    },
    {
      "cell_type": "code",
      "source": [
        "cars.head()"
      ],
      "metadata": {
        "id": "cLctX2lDRHkv"
      },
      "execution_count": null,
      "outputs": []
    },
    {
      "cell_type": "code",
      "metadata": {
        "id": "hIdzf9ajXuWR"
      },
      "source": [
        "cars_concat_columns = pd.concat([cars, cars], axis=1)"
      ],
      "execution_count": null,
      "outputs": []
    },
    {
      "cell_type": "code",
      "metadata": {
        "id": "N3YMoy_BpkaK"
      },
      "source": [
        "cars_concat_columns.shape"
      ],
      "execution_count": null,
      "outputs": []
    },
    {
      "cell_type": "code",
      "source": [
        "cars_concat_columns.head()"
      ],
      "metadata": {
        "id": "cYbPECqfKuBV"
      },
      "execution_count": null,
      "outputs": []
    },
    {
      "cell_type": "code",
      "source": [
        "first_row = cars.loc[:0, :]\n",
        "first_row"
      ],
      "metadata": {
        "id": "9nTZvSFeprrt"
      },
      "execution_count": null,
      "outputs": []
    },
    {
      "cell_type": "code",
      "source": [
        "concat_unequal_rows = pd.concat([first_row, cars], axis=1)\n",
        "concat_unequal_rows.head()"
      ],
      "metadata": {
        "id": "g-VL-v2Cqd_I"
      },
      "execution_count": null,
      "outputs": []
    },
    {
      "cell_type": "code",
      "source": [
        "cars_concat_rows = pd.concat([first_row, cars], axis=0)"
      ],
      "metadata": {
        "id": "lS7a6_knA6z1"
      },
      "execution_count": null,
      "outputs": []
    },
    {
      "cell_type": "code",
      "source": [
        "cars_concat_rows.shape"
      ],
      "metadata": {
        "id": "eCWtQKglBIee"
      },
      "execution_count": null,
      "outputs": []
    },
    {
      "cell_type": "code",
      "source": [
        "cars_concat_rows.head()"
      ],
      "metadata": {
        "id": "zj4Ec_ogBLXb"
      },
      "execution_count": null,
      "outputs": []
    },
    {
      "cell_type": "code",
      "source": [
        "cars_concat_rows.reset_index(drop=True).head()"
      ],
      "metadata": {
        "id": "MrWMc_VlBaLe"
      },
      "execution_count": null,
      "outputs": []
    },
    {
      "cell_type": "markdown",
      "metadata": {
        "id": "3iWogXFw84f4"
      },
      "source": [
        "# Joining dataframes\n",
        "Joining two datasets is the fundamental action to add additional information to your dataset.\n",
        "\n",
        "An example: You have information on\n",
        "- sales: `purchase_date`, `item-id`, `customer-id`, `count_purchases` (how often was the item purchased)\n",
        "- customer: `customer-id`, `full_name`, `address`, `payment_method`\n",
        "- items: `item-id`, `descriptive_name`, `category` (toy, sports equipment, etc), `price`\n",
        "\n",
        "Each of the information lives in a separate table. To answer questions like \"On which category do the customer spend most of their money?\" or \"Do we sell in a specific part of the country more toys than in other parts of the country?\" we need to combine the information of all three tables.\n",
        "\n",
        "This is done by \"joins\", in pandas it is called \"merge\".\n",
        "\n",
        "The join is done using an identifyer - a key/ID or a name - appearing in both tables. In every row where the identifyer appears in both tables, we have a \"match\" and the information of both datasets can be joined.\n",
        "\n",
        "The merged information appear as additional columns in the resulting dataframe.\n",
        "\n",
        "The command for a join in pandas looks like this\n",
        "\n",
        "```\n",
        "result = pd.merge(sales, customer, how=\"left\", on=\"Customer_ID\")\n",
        "result = sales.merge(customer, how=\"left\", on=\"Customer_ID\")\n",
        "```\n",
        "`sales` is the *left* table, `customer` is the *right* table. `how` defines the type of join, `on` the variable on which the join will be performed, the identifier.\n",
        "\n",
        "`result` will have all *columns* from the left table and all *columns* from the right table. The identifyer is included only once. That means for our example result will have the columns  `purchase_date`, `item-id`, `customer-id`, `count_purchases`, `full_name`, `address`, `payment_method`.\n",
        "\n",
        "\n",
        "We distinguish different types of joins. They define how many *rows* we have in the result.\n",
        "\n",
        "\n",
        "- **Left Join:** The resulting table contains the complete left table and all matching records from the right table. Records where no match exist appear is NaN. A **right join** is the same as a left join where left and right table are swapped.\n",
        "- **Outer Join:** The resulting table contains all records of the left table and all records of the right table. Not matching records are filled with NaN.\n",
        "- **Inner Join:** The resulting table contains only records where a match of left and right table exist.\n",
        "\n",
        "The type of joins are often illustrated by Venn diagrams where the right circle symbolizes the right table and the left circle the left table.\n",
        "\n",
        "\n",
        "# Inner join\n",
        "![left join](https://learn.microsoft.com/en-us/power-query/media/merge-queries-inner/inner-join-operation.png)\n",
        "\n",
        "# Left outer join\n",
        "![left join](https://docs.microsoft.com/de-de/power-query/images/left-outer-join-operation.png)\n",
        "\n",
        "# Right outer join\n",
        "![right join](https://learn.microsoft.com/en-us/power-query/media/merge-queries-right-outer/right-outer-join-operation.png)\n",
        "\n",
        "# Full outer join\n",
        "![outer join](https://learn.microsoft.com/en-us/power-query/media/merge-queries-full-outer/full-outer-join-operation.png)\n"
      ]
    },
    {
      "cell_type": "markdown",
      "metadata": {
        "id": "YdlkCs8-6GeY"
      },
      "source": [
        "**To** practice joins we will need to have a second dataframe which can be joined onto 'cars'. The dataframe is computed from 'cars' and has following properties\n",
        "- Average price **in euros €** of car models per brand (brand = Make). Columns: `Make, Model, avg_price`\n",
        "- 3 additional \"invented\" rows\n",
        "- All cars from 'Mercedes Benz' are removed"
      ]
    },
    {
      "cell_type": "code",
      "metadata": {
        "id": "aUanu5vl99Uk"
      },
      "source": [
        "avg_model_prices = cars.groupby(['Make', 'Model'])['price_euros'].mean().reset_index()\n",
        "avg_model_prices = avg_model_prices.rename(columns={'price_euros': 'avg_price'})\n",
        "avg_model_prices = avg_model_prices.loc[avg_model_prices.loc[:, 'Make'] != 'Mercedes Benz', :]\n",
        "\n",
        "invented_rows = pd.DataFrame(\n",
        "    data = [('Ford', 'Lo', 158703.340), ('Ford', 'Hi', 324235.670), ('Ford', 'Cheap', 6533.700)],\n",
        "    columns=['Make', 'Model', 'avg_price']\n",
        ")\n",
        "\n",
        "avg_model_prices = pd.concat([invented_rows, avg_model_prices], axis=0, ignore_index=True)\n",
        "\n",
        "avg_model_prices.shape"
      ],
      "execution_count": null,
      "outputs": []
    },
    {
      "cell_type": "code",
      "source": [
        "avg_model_prices.head()"
      ],
      "metadata": {
        "id": "VSts6t_pfKC0"
      },
      "execution_count": null,
      "outputs": []
    },
    {
      "cell_type": "markdown",
      "metadata": {
        "id": "lAEuXAxw8M0q"
      },
      "source": [
        "### Left outer join\n"
      ]
    },
    {
      "cell_type": "code",
      "metadata": {
        "id": "yZfauZaW-RsV"
      },
      "source": [
        "left_join = pd.merge(cars, avg_model_prices, on=['Make', 'Model'], how='left')"
      ],
      "execution_count": null,
      "outputs": []
    },
    {
      "cell_type": "code",
      "source": [
        "left_join.head()"
      ],
      "metadata": {
        "id": "cCTs_MmqrD_o"
      },
      "execution_count": null,
      "outputs": []
    },
    {
      "cell_type": "code",
      "source": [
        "# A left join includes the complete left table. The result of a left join has therefore\n",
        "# the same number of rows as the left table IF the join columns are unique in the right table.\n",
        "cars.shape\n",
        "print()\n",
        "left_join.shape"
      ],
      "metadata": {
        "id": "-R6d9IBvrpXV"
      },
      "execution_count": null,
      "outputs": []
    },
    {
      "cell_type": "code",
      "source": [
        "# avg_model_prices does not include entries for 'Mercedes Benz'\n",
        "# Those rows are then filled with NaN in a left join\n",
        "left_join.loc[left_join.loc[:, 'Make'] == 'Mercedes Benz', :].head()"
      ],
      "metadata": {
        "id": "Jo1r7B07rhlM"
      },
      "execution_count": null,
      "outputs": []
    },
    {
      "cell_type": "code",
      "source": [
        "# The \"invented\" models from avg_model_prices don't exist in the cars dataset, so\n",
        "# they also don't exist in the result\n",
        "left_join.loc[left_join.loc[:, 'Model'] == 'Cheap', :]"
      ],
      "metadata": {
        "id": "kZ1IYmCXDhIr"
      },
      "execution_count": null,
      "outputs": []
    }
  ]
}