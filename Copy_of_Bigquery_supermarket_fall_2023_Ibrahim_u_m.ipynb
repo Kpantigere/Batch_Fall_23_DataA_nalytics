{
  "nbformat": 4,
  "nbformat_minor": 0,
  "metadata": {
    "colab": {
      "provenance": [],
      "include_colab_link": true
    },
    "kernelspec": {
      "name": "python3",
      "display_name": "Python 3"
    },
    "language_info": {
      "name": "python"
    }
  },
  "cells": [
    {
      "cell_type": "markdown",
      "metadata": {
        "id": "view-in-github",
        "colab_type": "text"
      },
      "source": [
        "<a href=\"https://colab.research.google.com/github/Kpantigere/Batch_Fall_23_DataA_nalytics/blob/main/Copy_of_Bigquery_supermarket_fall_2023_Ibrahim_u_m.ipynb\" target=\"_parent\"><img src=\"https://colab.research.google.com/assets/colab-badge.svg\" alt=\"Open In Colab\"/></a>"
      ]
    },
    {
      "cell_type": "markdown",
      "source": [
        "SQL in Bigquery and Google Colab.\n",
        "\n",
        "In order to run a query in Bigquery we can always do it using the front end.\n",
        "\n",
        "Nevertheless, sometimes we prefer to run the query from other platforms, this way we can store the queries in a \"jupiter notebook\" like system.\n",
        "\n",
        "This is what we will be doing here. We will connect to our database in Bigquery, and then run queries from our google colab.\n"
      ],
      "metadata": {
        "id": "GEOBEB9i3QSf"
      }
    },
    {
      "cell_type": "markdown",
      "source": [
        "The next cell will ask for your google credentials, please use the same ones where you have your bigquery access."
      ],
      "metadata": {
        "id": "gWdXxMBF3std"
      }
    },
    {
      "cell_type": "code",
      "execution_count": 1,
      "metadata": {
        "id": "slqZelLH0TKD"
      },
      "outputs": [],
      "source": [
        "from google.colab import auth\n",
        "auth.authenticate_user()"
      ]
    },
    {
      "cell_type": "markdown",
      "source": [
        "Now that we are logged in, we can start running queries. We will ask to be connected to a specific project:\n"
      ],
      "metadata": {
        "id": "yByTDPl83y9h"
      }
    },
    {
      "cell_type": "code",
      "source": [
        "from google.cloud import bigquery\n",
        "client = bigquery.Client(project='redi-da-fall-2023')"
      ],
      "metadata": {
        "id": "4xY5_rzZ1W1a"
      },
      "execution_count": 2,
      "outputs": []
    },
    {
      "cell_type": "markdown",
      "source": [
        "Once we are connected to the project, we can run queries in the following way:"
      ],
      "metadata": {
        "id": "HJaKFmpE36ZT"
      }
    },
    {
      "cell_type": "code",
      "source": [],
      "metadata": {
        "id": "uO3IqlL63-kw"
      },
      "execution_count": null,
      "outputs": []
    },
    {
      "cell_type": "code",
      "source": [
        "sql_query = ('''\n",
        "\n",
        "SELECT\n",
        "\n",
        "*\n",
        "\n",
        "FROM supermarket_redi.sales\n",
        "\n",
        "LIMIT 1000\n",
        "\n",
        "\n",
        "''')\n",
        "\n",
        "df = client.query(sql_query).to_dataframe()"
      ],
      "metadata": {
        "id": "8lhLAKVS0Z2U"
      },
      "execution_count": 4,
      "outputs": []
    },
    {
      "cell_type": "code",
      "source": [
        "df.head()"
      ],
      "metadata": {
        "id": "_8h9HCRd1oBI"
      },
      "execution_count": null,
      "outputs": []
    },
    {
      "cell_type": "markdown",
      "source": [
        "Explore the next sql functions:\n"
      ],
      "metadata": {
        "id": "qnG_lftX2AOy"
      }
    },
    {
      "cell_type": "markdown",
      "source": [
        "How to explore just one column:"
      ],
      "metadata": {
        "id": "9dMRO7lcoZuP"
      }
    },
    {
      "cell_type": "code",
      "source": [
        "sql_query = ('''\n",
        "\n",
        "SELECT\n",
        "item_code\n",
        "FROM supermarket_redi.sales\n",
        "LIMIT 1000\n",
        "\n",
        "''')\n",
        "\n",
        "df = client.query(sql_query).to_dataframe()"
      ],
      "metadata": {
        "id": "FR4mjj6_2G-3"
      },
      "execution_count": 6,
      "outputs": []
    },
    {
      "cell_type": "code",
      "source": [
        "df.head()"
      ],
      "metadata": {
        "id": "YfdwYbQXCkt9"
      },
      "execution_count": null,
      "outputs": []
    },
    {
      "cell_type": "markdown",
      "source": [
        "How to explore just the DISTINCT (or unique) values of one column:"
      ],
      "metadata": {
        "id": "c4GmygX_ol-K"
      }
    },
    {
      "cell_type": "code",
      "source": [
        "sql_query = ('''\n",
        "\n",
        "SELECT\n",
        "DISTINCT\n",
        "item_code\n",
        "FROM supermarket_redi.sales\n",
        "LIMIT 1000\n",
        "\n",
        "''')\n",
        "\n",
        "df = client.query(sql_query).to_dataframe()"
      ],
      "metadata": {
        "id": "4SogZ_A2orS4"
      },
      "execution_count": 8,
      "outputs": []
    },
    {
      "cell_type": "code",
      "source": [
        "df.head()"
      ],
      "metadata": {
        "id": "CYyj6lnA2HD2"
      },
      "execution_count": null,
      "outputs": []
    },
    {
      "cell_type": "markdown",
      "source": [
        "select the whole dataset using where\n"
      ],
      "metadata": {
        "id": "UodtB-jPwP1n"
      }
    },
    {
      "cell_type": "code",
      "source": [
        "sql_query = ('''\n",
        "\n",
        "SELECT\n",
        "*\n",
        "FROM supermarket_redi.sales\n",
        "WHERE Discount__Yes_No_ = true\n",
        "\n",
        "''')\n",
        "\n",
        "df = client.query(sql_query).to_dataframe()"
      ],
      "metadata": {
        "id": "uuyP2lH3wQ_c"
      },
      "execution_count": 10,
      "outputs": []
    },
    {
      "cell_type": "code",
      "source": [
        "df.head()"
      ],
      "metadata": {
        "id": "CkEGPQCyEFFj"
      },
      "execution_count": null,
      "outputs": []
    },
    {
      "cell_type": "markdown",
      "source": [
        "\n",
        "select from a list of values using where in\n"
      ],
      "metadata": {
        "id": "FdLL41UCwTXN"
      }
    },
    {
      "cell_type": "code",
      "source": [
        "sql_query = ('''\n",
        "\n",
        "Select\n",
        "  *\n",
        "FROM supermarket_redi.sales\n",
        "\n",
        "WHERE Item_Code IN (102900011032848,102900011031582)\n",
        "\n",
        "''')\n",
        "\n",
        "df = client.query(sql_query).to_dataframe()"
      ],
      "metadata": {
        "id": "kC6_XLfAwV30"
      },
      "execution_count": 12,
      "outputs": []
    },
    {
      "cell_type": "code",
      "source": [
        "df.head()"
      ],
      "metadata": {
        "id": "mvKXmWKHFfHV"
      },
      "execution_count": null,
      "outputs": []
    },
    {
      "cell_type": "markdown",
      "source": [
        "USING GROUP BY\n",
        "\n",
        "group by is a way to aggregate data\n",
        "\n",
        "for example, now we want to know how many times an item has been sold (not how many sales but how many times that item appears on our table)\n"
      ],
      "metadata": {
        "id": "zxboKeQxwWYo"
      }
    },
    {
      "cell_type": "code",
      "source": [],
      "metadata": {
        "id": "nPsbBv32yBzh"
      },
      "execution_count": null,
      "outputs": []
    },
    {
      "cell_type": "code",
      "source": [
        "sql_query = ('''\n",
        "\n",
        "Select\n",
        "  item_code,\n",
        "  count(1) as nb_appearances\n",
        "FROM supermarket_redi.sales\n",
        "GROUP BY item_code\n",
        "\n",
        "''')\n",
        "\n",
        "df = client.query(sql_query).to_dataframe()"
      ],
      "metadata": {
        "id": "qlmmwwXkwYWV"
      },
      "execution_count": 3,
      "outputs": []
    },
    {
      "cell_type": "code",
      "source": [
        "df.head()"
      ],
      "metadata": {
        "id": "ajlSNj40JYsw"
      },
      "execution_count": null,
      "outputs": []
    },
    {
      "cell_type": "markdown",
      "source": [
        "We can also subsitute GROUP BY item_code by GROUP BY 1 (meaning, to group by the first column of our new table)\n",
        "\n",
        "This result by itself is not very useful, no?\n",
        "\n",
        "Try to now add at the end of the query ORDER BY nb_appearances DESC\n",
        "\n"
      ],
      "metadata": {
        "id": "pg-JPh5iwY2T"
      }
    },
    {
      "cell_type": "code",
      "source": [],
      "metadata": {
        "id": "rQqx_42nx-5P"
      },
      "execution_count": null,
      "outputs": []
    },
    {
      "cell_type": "code",
      "source": [
        "sql_query = ('''\n",
        "\n",
        "Select\n",
        "  item_code,\n",
        "  count(1) as nb_appearances\n",
        "FROM supermarket_redi.sales\n",
        "\n",
        "GROUP BY item_code\n",
        "ORDER BY nb_appearances desc\n",
        "\n",
        "''')\n",
        "\n",
        "df = client.query(sql_query).to_dataframe()"
      ],
      "metadata": {
        "id": "8DmS0eeCwbvP"
      },
      "execution_count": 19,
      "outputs": []
    },
    {
      "cell_type": "code",
      "source": [
        "df.head()"
      ],
      "metadata": {
        "id": "Hz3_hG3uJxLI"
      },
      "execution_count": null,
      "outputs": []
    },
    {
      "cell_type": "markdown",
      "source": [
        "now we have the top items that sold the most times, but lets see the item that sold actually the most kilos:\n"
      ],
      "metadata": {
        "id": "0vhs9tx8wcY2"
      }
    },
    {
      "cell_type": "code",
      "source": [
        "sql_query = ('''\n",
        "\n",
        "\n",
        "Select\n",
        "  item_code,\n",
        "  sum(Quantity_Sold__kilo_) as nb_kilos_sold\n",
        "FROM supermarket_redi.sales\n",
        "\n",
        "GROUP BY item_code\n",
        "ORDER BY nb_kilos_sold desc\n",
        "\n",
        "''')\n",
        "\n",
        "df = client.query(sql_query).to_dataframe()"
      ],
      "metadata": {
        "id": "8UG3qq4Zwe3V"
      },
      "execution_count": 21,
      "outputs": []
    },
    {
      "cell_type": "code",
      "source": [
        "df.head()"
      ],
      "metadata": {
        "id": "ccugPcHcJ9kw"
      },
      "execution_count": null,
      "outputs": []
    },
    {
      "cell_type": "markdown",
      "source": [
        "Calculations over a given dimension are done using the GROUP BY formula.\n",
        "\n",
        "the calculations we can do are:\n",
        "\n",
        "min(), max(), sum(), count() and count(distinct)\n",
        "\n",
        "there are many others, but those are the most important ones.\n",
        "\n",
        "\n"
      ],
      "metadata": {
        "id": "KAB-9yLtwfRj"
      }
    },
    {
      "cell_type": "code",
      "source": [
        "sql_query = ('''\n",
        "\n",
        "\n",
        "SELECT\n",
        "  date,\n",
        "  item_code,\n",
        "  min(Quantity_Sold__kilo_) as min_kilo_sold,\n",
        "  max(Quantity_Sold__kilo_) as max_kilo_sold,\n",
        "  sum(Quantity_Sold__kilo_ * Unit_Selling_Price__RMB_kg_) as revenue_generated\n",
        "\n",
        "from supermarket_redi.sales\n",
        "group by 1,2\n",
        "\n",
        "''')\n",
        "\n",
        "df = client.query(sql_query).to_dataframe()"
      ],
      "metadata": {
        "id": "-2CdX4xXwhpH"
      },
      "execution_count": 5,
      "outputs": []
    },
    {
      "cell_type": "code",
      "source": [
        "df.head()"
      ],
      "metadata": {
        "id": "ZTY03PB4Gj1o"
      },
      "execution_count": null,
      "outputs": []
    },
    {
      "cell_type": "markdown",
      "source": [
        "DATE FUNCTIONS\n",
        "-- https://cloud.google.com/bigquery/docs/reference/standard-sql/date_functions\n",
        "\n",
        "date trunc: date trunc, will cut the date up to a certan point, if we chose week, it will flat the date to the starting week day, if we chose month, it will do the same but to the first day of the month.\n",
        "\n"
      ],
      "metadata": {
        "id": "49p8fVstwh78"
      }
    },
    {
      "cell_type": "code",
      "source": [],
      "metadata": {
        "id": "etTxaZmAx2ZL"
      },
      "execution_count": null,
      "outputs": []
    },
    {
      "cell_type": "code",
      "source": [],
      "metadata": {
        "id": "oBHtn0icx1QK"
      },
      "execution_count": null,
      "outputs": []
    },
    {
      "cell_type": "code",
      "source": [
        "sql_query = ('''\n",
        "\n",
        "\n",
        "SELECT\n",
        "  date_trunc(date, week) as date_week,\n",
        "  item_code,\n",
        "  min(Quantity_Sold__kilo_) as min_kilo_sold,\n",
        "  max(Quantity_Sold__kilo_) as max_kilo_sold,\n",
        "  sum(Quantity_Sold__kilo_ * Unit_Selling_Price__RMB_kg_) as revenue_generated\n",
        "\n",
        "from supermarket_redi.sales\n",
        "group by 1,2\n",
        "\n",
        "''')\n",
        "\n",
        "df = client.query(sql_query).to_dataframe()"
      ],
      "metadata": {
        "id": "Or5HIBtmwkSD"
      },
      "execution_count": 29,
      "outputs": []
    },
    {
      "cell_type": "code",
      "source": [
        "df.head()"
      ],
      "metadata": {
        "id": "07tMALZiHCuj"
      },
      "execution_count": null,
      "outputs": []
    },
    {
      "cell_type": "markdown",
      "source": [
        "EXTRACT\n",
        "\n",
        "\n",
        "Extract will take out one part of the date, for example the day of the month, or the month, or the day of the week.\n",
        "\n"
      ],
      "metadata": {
        "id": "i0jsccTjwk70"
      }
    },
    {
      "cell_type": "code",
      "source": [
        "sql_query = ('''\n",
        "\n",
        "\n",
        "SELECT\n",
        "  extract(week from date) as calendar_week,\n",
        "  item_code,\n",
        "  min(Quantity_Sold__kilo_) as min_kilo_sold,\n",
        "  max(Quantity_Sold__kilo_) as max_kilo_sold,\n",
        "  sum(Quantity_Sold__kilo_ * Unit_Selling_Price__RMB_kg_) as revenue_generated\n",
        "\n",
        "from supermarket_redi.sales\n",
        "group by 1,2\n",
        "\n",
        "''')\n",
        "\n",
        "df = client.query(sql_query).to_dataframe()"
      ],
      "metadata": {
        "id": "k1C2eNXJwnsu"
      },
      "execution_count": 9,
      "outputs": []
    },
    {
      "cell_type": "code",
      "source": [
        "df.head()"
      ],
      "metadata": {
        "id": "aK_uTDeYIO0O"
      },
      "execution_count": null,
      "outputs": []
    },
    {
      "cell_type": "markdown",
      "source": [
        "CASE WHEN       \n",
        "\n",
        "CASE WHEN is similar to the IF formula on other languages:\n",
        "\n",
        "CASE WHEN  Discount__Yes_No_ IS TRUE THEN 'Item had discount' else 'Item did\n",
        "not have discount' end as name_column,\n",
        "\n",
        "CASE WHEN logic                 THEN ____                     ELSE ____                         END AS name_column,\n"
      ],
      "metadata": {
        "id": "6uKKgCskwoCM"
      }
    },
    {
      "cell_type": "code",
      "source": [],
      "metadata": {
        "id": "Wn06ACh2wqVi"
      },
      "execution_count": null,
      "outputs": []
    },
    {
      "cell_type": "markdown",
      "source": [
        "EXERCISES:\n",
        "\n",
        "What was the day that had the most revenue?\n",
        "\n",
        "What was the day that had the least revenue?\n",
        "\n",
        "Could you get the distribution of total kilos sold per day of the week? So, how many kilos were sold on a monday, how many on a tuesday...\n",
        "\n",
        "Could you get the distribution of total kilos sold per hour of the day?So, how many kilos were sold at 9 am, how many at 10 am...\n",
        "\n",
        "What was the item that generated the most sales?\n",
        "\n",
        "Does the supermarket sell more during the morning (before 12 pm) or during the afternoon, evening?\n",
        "\n",
        "What is the hour of the week that the supermarket sells the most?\n",
        "\n",
        "What was the item that more times was discounted?\n"
      ],
      "metadata": {
        "id": "pZpddbUcwtWb"
      }
    },
    {
      "cell_type": "code",
      "source": [
        "#What was the day that had the most revenue?\n",
        "sql_query = ('''\n",
        "\n",
        "\n",
        "SELECT\n",
        "\n",
        "  date_trunc(date, day) AS days_sales,\n",
        "  FORMAT_DATETIME(\"%A\" , DATETIME(date)) AS day_,\n",
        "\n",
        "\n",
        "  SUM(Quantity_Sold__kilo_ * Unit_Selling_Price__RMB_kg_) AS revenue_generated\n",
        "\n",
        "FROM supermarket_redi.sales\n",
        "  GROUP BY days_sales, day_\n",
        "  ORDER BY revenue_generated DESC\n",
        "\n",
        "''')\n",
        "\n",
        "df = client.query(sql_query).to_dataframe()"
      ],
      "metadata": {
        "id": "92hMUEY7xoij"
      },
      "execution_count": 37,
      "outputs": []
    },
    {
      "cell_type": "code",
      "source": [
        "df.head()"
      ],
      "metadata": {
        "id": "hNU-2GmFLIY0"
      },
      "execution_count": null,
      "outputs": []
    },
    {
      "cell_type": "code",
      "source": [
        "#What was the day that had the least revenue?\n",
        "sql_query = ('''\n",
        "\n",
        "\n",
        "SELECT\n",
        "\n",
        "  date_trunc(date, day) AS days_sales,\n",
        "  FORMAT_DATETIME(\"%A\" , DATETIME(date)) AS day_,\n",
        "\n",
        "\n",
        "  SUM(Quantity_Sold__kilo_ * Unit_Selling_Price__RMB_kg_) AS revenue_generated\n",
        "\n",
        "FROM supermarket_redi.sales\n",
        "  GROUP BY days_sales, day_\n",
        "  ORDER BY revenue_generated ASC\n",
        "\n",
        "''')\n",
        "\n",
        "df = client.query(sql_query).to_dataframe()"
      ],
      "metadata": {
        "id": "I5ZjX5oM2HGQ"
      },
      "execution_count": 43,
      "outputs": []
    },
    {
      "cell_type": "code",
      "source": [
        "df.head()"
      ],
      "metadata": {
        "id": "2v7cXw5w2HIu"
      },
      "execution_count": null,
      "outputs": []
    },
    {
      "cell_type": "code",
      "source": [
        "#Could you get the distribution of total kilos sold per day of the week? So, how many kilos were sold on a monday, how many on a tuesday\n",
        "sql_query = ('''\n",
        "\n",
        "\n",
        "SELECT\n",
        "\n",
        "  date_trunc(date, day) AS days_sales,\n",
        "  FORMAT_DATETIME(\"%A\" , DATETIME(date)) AS day_,\n",
        "\n",
        "\n",
        "  SUM(Quantity_Sold__kilo_) AS Sold_per_day_week\n",
        "\n",
        "FROM supermarket_redi.sales\n",
        "  GROUP BY days_sales, day_\n",
        "  ORDER BY Sold_per_day_week DESC\n",
        "\n",
        "''')\n",
        "\n",
        "df = client.query(sql_query).to_dataframe()"
      ],
      "metadata": {
        "id": "GlKb-csZ2HK7"
      },
      "execution_count": 47,
      "outputs": []
    },
    {
      "cell_type": "code",
      "source": [
        "df.head(7)"
      ],
      "metadata": {
        "id": "x01MbhN82HM6"
      },
      "execution_count": null,
      "outputs": []
    },
    {
      "cell_type": "code",
      "source": [
        "#Could you get the distribution of total kilos sold per hour of the day?So, how many kilos were sold at 9 am, how many at 10 am\n",
        "sql_query = ('''\n",
        "\n",
        "\n",
        "SELECT\n",
        "\n",
        "  TIME_TRUNC(time, hour) AS hourly_sales,\n",
        "\n",
        "\n",
        "  SUM(Quantity_Sold__kilo_) AS Sold_per_hour\n",
        "\n",
        "FROM supermarket_redi.sales\n",
        "  GROUP BY hourly_sales\n",
        "  ORDER BY Sold_per_hour DESC\n",
        "\n",
        "''')\n",
        "\n",
        "df = client.query(sql_query).to_dataframe()"
      ],
      "metadata": {
        "id": "wGETxPeYTv3H"
      },
      "execution_count": 91,
      "outputs": []
    },
    {
      "cell_type": "code",
      "source": [
        "df.head()"
      ],
      "metadata": {
        "id": "LqZk10ngnMwi"
      },
      "execution_count": null,
      "outputs": []
    },
    {
      "cell_type": "code",
      "source": [
        "#What was the item that generated the most sales?\n",
        "sql_query = ('''\n",
        "\n",
        "\n",
        "SELECT\n",
        "\n",
        "  Item_Code,\n",
        "  Count(1) AS total_sales,\n",
        "\n",
        "\n",
        "  SUM(Quantity_Sold__kilo_) AS Most_sales\n",
        "\n",
        "FROM supermarket_redi.sales\n",
        "  GROUP BY Item_Code, total_sales\n",
        "  ORDER BY Most_sales DESC\n",
        "\n",
        "''')\n",
        "\n",
        "df = client.query(sql_query).to_dataframe()"
      ],
      "metadata": {
        "id": "QNBGMkSyW3tf"
      },
      "execution_count": 61,
      "outputs": []
    },
    {
      "cell_type": "code",
      "source": [
        "#Does the supermarket sell more during the morning (before 12 pm) or during the afternoon, evening?\n",
        "sql_query = ('''\n",
        "\n",
        "\n",
        "SELECT\n",
        "  CASE\n",
        "  WHEN\n",
        "  EXTRACT(time FROM hour)>= 12 THEN 'morning_sale'\n",
        "  ELSE 'afternoon_sale/evening sales'\n",
        "  END AS time_of_day,\n",
        "  count(*) AS record_count,\n",
        "\n",
        "\n",
        "  SUM(Quantity_Sold__kilo_) AS Most_sales\n",
        "\n",
        "FROM supermarket_redi.sales\n",
        "  GROUP BY time_of_day\n",
        "  ORDER BY Most_sales\n",
        "\n",
        "''')\n",
        "\n",
        "df = client.query(sql_query).to_dataframe()"
      ],
      "metadata": {
        "id": "MUhrQycIads3"
      },
      "execution_count": 99,
      "outputs": []
    },
    {
      "cell_type": "code",
      "source": [
        "df.head()"
      ],
      "metadata": {
        "colab": {
          "base_uri": "https://localhost:8080/",
          "height": 81
        },
        "id": "G4efXUcBn80g",
        "outputId": "6b88e0f2-b3bc-438d-a27f-25edb065306b"
      },
      "execution_count": 100,
      "outputs": [
        {
          "output_type": "execute_result",
          "data": {
            "text/plain": [
              "      time_of_day  record_count  Most_sales\n",
              "0  aftrenoon_sale        878503  470975.918"
            ],
            "text/html": [
              "\n",
              "  <div id=\"df-c8584eb5-a7a9-4640-8fc5-84a0789e0bbf\" class=\"colab-df-container\">\n",
              "    <div>\n",
              "<style scoped>\n",
              "    .dataframe tbody tr th:only-of-type {\n",
              "        vertical-align: middle;\n",
              "    }\n",
              "\n",
              "    .dataframe tbody tr th {\n",
              "        vertical-align: top;\n",
              "    }\n",
              "\n",
              "    .dataframe thead th {\n",
              "        text-align: right;\n",
              "    }\n",
              "</style>\n",
              "<table border=\"1\" class=\"dataframe\">\n",
              "  <thead>\n",
              "    <tr style=\"text-align: right;\">\n",
              "      <th></th>\n",
              "      <th>time_of_day</th>\n",
              "      <th>record_count</th>\n",
              "      <th>Most_sales</th>\n",
              "    </tr>\n",
              "  </thead>\n",
              "  <tbody>\n",
              "    <tr>\n",
              "      <th>0</th>\n",
              "      <td>aftrenoon_sale</td>\n",
              "      <td>878503</td>\n",
              "      <td>470975.918</td>\n",
              "    </tr>\n",
              "  </tbody>\n",
              "</table>\n",
              "</div>\n",
              "    <div class=\"colab-df-buttons\">\n",
              "\n",
              "  <div class=\"colab-df-container\">\n",
              "    <button class=\"colab-df-convert\" onclick=\"convertToInteractive('df-c8584eb5-a7a9-4640-8fc5-84a0789e0bbf')\"\n",
              "            title=\"Convert this dataframe to an interactive table.\"\n",
              "            style=\"display:none;\">\n",
              "\n",
              "  <svg xmlns=\"http://www.w3.org/2000/svg\" height=\"24px\" viewBox=\"0 -960 960 960\">\n",
              "    <path d=\"M120-120v-720h720v720H120Zm60-500h600v-160H180v160Zm220 220h160v-160H400v160Zm0 220h160v-160H400v160ZM180-400h160v-160H180v160Zm440 0h160v-160H620v160ZM180-180h160v-160H180v160Zm440 0h160v-160H620v160Z\"/>\n",
              "  </svg>\n",
              "    </button>\n",
              "\n",
              "  <style>\n",
              "    .colab-df-container {\n",
              "      display:flex;\n",
              "      gap: 12px;\n",
              "    }\n",
              "\n",
              "    .colab-df-convert {\n",
              "      background-color: #E8F0FE;\n",
              "      border: none;\n",
              "      border-radius: 50%;\n",
              "      cursor: pointer;\n",
              "      display: none;\n",
              "      fill: #1967D2;\n",
              "      height: 32px;\n",
              "      padding: 0 0 0 0;\n",
              "      width: 32px;\n",
              "    }\n",
              "\n",
              "    .colab-df-convert:hover {\n",
              "      background-color: #E2EBFA;\n",
              "      box-shadow: 0px 1px 2px rgba(60, 64, 67, 0.3), 0px 1px 3px 1px rgba(60, 64, 67, 0.15);\n",
              "      fill: #174EA6;\n",
              "    }\n",
              "\n",
              "    .colab-df-buttons div {\n",
              "      margin-bottom: 4px;\n",
              "    }\n",
              "\n",
              "    [theme=dark] .colab-df-convert {\n",
              "      background-color: #3B4455;\n",
              "      fill: #D2E3FC;\n",
              "    }\n",
              "\n",
              "    [theme=dark] .colab-df-convert:hover {\n",
              "      background-color: #434B5C;\n",
              "      box-shadow: 0px 1px 3px 1px rgba(0, 0, 0, 0.15);\n",
              "      filter: drop-shadow(0px 1px 2px rgba(0, 0, 0, 0.3));\n",
              "      fill: #FFFFFF;\n",
              "    }\n",
              "  </style>\n",
              "\n",
              "    <script>\n",
              "      const buttonEl =\n",
              "        document.querySelector('#df-c8584eb5-a7a9-4640-8fc5-84a0789e0bbf button.colab-df-convert');\n",
              "      buttonEl.style.display =\n",
              "        google.colab.kernel.accessAllowed ? 'block' : 'none';\n",
              "\n",
              "      async function convertToInteractive(key) {\n",
              "        const element = document.querySelector('#df-c8584eb5-a7a9-4640-8fc5-84a0789e0bbf');\n",
              "        const dataTable =\n",
              "          await google.colab.kernel.invokeFunction('convertToInteractive',\n",
              "                                                    [key], {});\n",
              "        if (!dataTable) return;\n",
              "\n",
              "        const docLinkHtml = 'Like what you see? Visit the ' +\n",
              "          '<a target=\"_blank\" href=https://colab.research.google.com/notebooks/data_table.ipynb>data table notebook</a>'\n",
              "          + ' to learn more about interactive tables.';\n",
              "        element.innerHTML = '';\n",
              "        dataTable['output_type'] = 'display_data';\n",
              "        await google.colab.output.renderOutput(dataTable, element);\n",
              "        const docLink = document.createElement('div');\n",
              "        docLink.innerHTML = docLinkHtml;\n",
              "        element.appendChild(docLink);\n",
              "      }\n",
              "    </script>\n",
              "  </div>\n",
              "\n",
              "    </div>\n",
              "  </div>\n"
            ]
          },
          "metadata": {},
          "execution_count": 100
        }
      ]
    },
    {
      "cell_type": "code",
      "source": [
        "sql_query = ('''\n",
        "\n",
        "\n",
        "SELECT\n",
        "  IF(EXTRACT(HOUR FROM TIMESTAMP(date)) BETWEEN 1 AND 12, 'morning_sales',\n",
        "  IF(EXTRACT(HOUR FROM TIMESTAMP(date)) BETWEEN 13 AND 14, 'afternoon_sales','After_noon' ))\n",
        "  AS time_of_day,\n",
        "\n",
        "\n",
        "  SUM(Quantity_Sold__kilo_) AS Most_sales\n",
        "\n",
        "FROM supermarket_redi.sales\n",
        "  GROUP BY time_of_day\n",
        "  ORDER BY Most_sales\n",
        "\n",
        "''')\n",
        "\n",
        "df = client.query(sql_query).to_dataframe()"
      ],
      "metadata": {
        "id": "aBlWfJWHarU2"
      },
      "execution_count": 89,
      "outputs": []
    },
    {
      "cell_type": "code",
      "source": [
        "#What is the hour of the week that the supermarket sells the most?\n",
        "sql_query = ('''\n",
        "\n",
        "\n",
        "SELECT\n",
        "\n",
        "  EXTRACT(DAYOFWEEK from date) AS weekday,\n",
        "  TIME_TRUNC(time, hour) AS hourly_sales,\n",
        "  FORMAT_DATETIME('%A', DATETIME(date)) AS Week_day_name,\n",
        "\n",
        "\n",
        "  MAX(Quantity_Sold__kilo_) AS Sold_per_hour\n",
        "\n",
        "FROM supermarket_redi.sales\n",
        "  GROUP BY weekday, hourly_sales, week_day_name\n",
        "  ORDER BY Sold_per_hour DESC\n",
        "\n",
        "''')\n",
        "\n",
        "df = client.query(sql_query).to_dataframe()\n",
        "df.head()"
      ],
      "metadata": {
        "id": "LHZUHpC6lhdr"
      },
      "execution_count": null,
      "outputs": []
    },
    {
      "cell_type": "code",
      "source": [
        "#What was the item that more times was discounted?\n",
        "sql_query = ('''\n",
        "\n",
        "\n",
        "SELECT\n",
        "  item_Code,\n",
        "  sum(CASE WHEN Discount__Yes_No_ then 1 else 0 end) as times_discounted,\n",
        "\n",
        "\n",
        "FROM supermarket_redi.sales\n",
        "  GROUP BY Item_Code\n",
        "  ORDER By times_discounted DESC\n",
        "''')\n",
        "\n",
        "df = client.query(sql_query).to_dataframe()\n",
        "df.head()"
      ],
      "metadata": {
        "colab": {
          "base_uri": "https://localhost:8080/",
          "height": 206
        },
        "id": "r6EgSREQq8Jg",
        "outputId": "e04aecc0-bdf8-41ac-9b32-a1d6103244c7"
      },
      "execution_count": 16,
      "outputs": [
        {
          "output_type": "execute_result",
          "data": {
            "text/plain": [
              "         item_Code  times_discounted\n",
              "0  102900005116530              4324\n",
              "1  102900005116899              4138\n",
              "2  102900005116714              2422\n",
              "3  102900011030059              2057\n",
              "4  102900011030097              2045"
            ],
            "text/html": [
              "\n",
              "  <div id=\"df-67bfb7a2-a3ac-4ee9-8812-e77041a51505\" class=\"colab-df-container\">\n",
              "    <div>\n",
              "<style scoped>\n",
              "    .dataframe tbody tr th:only-of-type {\n",
              "        vertical-align: middle;\n",
              "    }\n",
              "\n",
              "    .dataframe tbody tr th {\n",
              "        vertical-align: top;\n",
              "    }\n",
              "\n",
              "    .dataframe thead th {\n",
              "        text-align: right;\n",
              "    }\n",
              "</style>\n",
              "<table border=\"1\" class=\"dataframe\">\n",
              "  <thead>\n",
              "    <tr style=\"text-align: right;\">\n",
              "      <th></th>\n",
              "      <th>item_Code</th>\n",
              "      <th>times_discounted</th>\n",
              "    </tr>\n",
              "  </thead>\n",
              "  <tbody>\n",
              "    <tr>\n",
              "      <th>0</th>\n",
              "      <td>102900005116530</td>\n",
              "      <td>4324</td>\n",
              "    </tr>\n",
              "    <tr>\n",
              "      <th>1</th>\n",
              "      <td>102900005116899</td>\n",
              "      <td>4138</td>\n",
              "    </tr>\n",
              "    <tr>\n",
              "      <th>2</th>\n",
              "      <td>102900005116714</td>\n",
              "      <td>2422</td>\n",
              "    </tr>\n",
              "    <tr>\n",
              "      <th>3</th>\n",
              "      <td>102900011030059</td>\n",
              "      <td>2057</td>\n",
              "    </tr>\n",
              "    <tr>\n",
              "      <th>4</th>\n",
              "      <td>102900011030097</td>\n",
              "      <td>2045</td>\n",
              "    </tr>\n",
              "  </tbody>\n",
              "</table>\n",
              "</div>\n",
              "    <div class=\"colab-df-buttons\">\n",
              "\n",
              "  <div class=\"colab-df-container\">\n",
              "    <button class=\"colab-df-convert\" onclick=\"convertToInteractive('df-67bfb7a2-a3ac-4ee9-8812-e77041a51505')\"\n",
              "            title=\"Convert this dataframe to an interactive table.\"\n",
              "            style=\"display:none;\">\n",
              "\n",
              "  <svg xmlns=\"http://www.w3.org/2000/svg\" height=\"24px\" viewBox=\"0 -960 960 960\">\n",
              "    <path d=\"M120-120v-720h720v720H120Zm60-500h600v-160H180v160Zm220 220h160v-160H400v160Zm0 220h160v-160H400v160ZM180-400h160v-160H180v160Zm440 0h160v-160H620v160ZM180-180h160v-160H180v160Zm440 0h160v-160H620v160Z\"/>\n",
              "  </svg>\n",
              "    </button>\n",
              "\n",
              "  <style>\n",
              "    .colab-df-container {\n",
              "      display:flex;\n",
              "      gap: 12px;\n",
              "    }\n",
              "\n",
              "    .colab-df-convert {\n",
              "      background-color: #E8F0FE;\n",
              "      border: none;\n",
              "      border-radius: 50%;\n",
              "      cursor: pointer;\n",
              "      display: none;\n",
              "      fill: #1967D2;\n",
              "      height: 32px;\n",
              "      padding: 0 0 0 0;\n",
              "      width: 32px;\n",
              "    }\n",
              "\n",
              "    .colab-df-convert:hover {\n",
              "      background-color: #E2EBFA;\n",
              "      box-shadow: 0px 1px 2px rgba(60, 64, 67, 0.3), 0px 1px 3px 1px rgba(60, 64, 67, 0.15);\n",
              "      fill: #174EA6;\n",
              "    }\n",
              "\n",
              "    .colab-df-buttons div {\n",
              "      margin-bottom: 4px;\n",
              "    }\n",
              "\n",
              "    [theme=dark] .colab-df-convert {\n",
              "      background-color: #3B4455;\n",
              "      fill: #D2E3FC;\n",
              "    }\n",
              "\n",
              "    [theme=dark] .colab-df-convert:hover {\n",
              "      background-color: #434B5C;\n",
              "      box-shadow: 0px 1px 3px 1px rgba(0, 0, 0, 0.15);\n",
              "      filter: drop-shadow(0px 1px 2px rgba(0, 0, 0, 0.3));\n",
              "      fill: #FFFFFF;\n",
              "    }\n",
              "  </style>\n",
              "\n",
              "    <script>\n",
              "      const buttonEl =\n",
              "        document.querySelector('#df-67bfb7a2-a3ac-4ee9-8812-e77041a51505 button.colab-df-convert');\n",
              "      buttonEl.style.display =\n",
              "        google.colab.kernel.accessAllowed ? 'block' : 'none';\n",
              "\n",
              "      async function convertToInteractive(key) {\n",
              "        const element = document.querySelector('#df-67bfb7a2-a3ac-4ee9-8812-e77041a51505');\n",
              "        const dataTable =\n",
              "          await google.colab.kernel.invokeFunction('convertToInteractive',\n",
              "                                                    [key], {});\n",
              "        if (!dataTable) return;\n",
              "\n",
              "        const docLinkHtml = 'Like what you see? Visit the ' +\n",
              "          '<a target=\"_blank\" href=https://colab.research.google.com/notebooks/data_table.ipynb>data table notebook</a>'\n",
              "          + ' to learn more about interactive tables.';\n",
              "        element.innerHTML = '';\n",
              "        dataTable['output_type'] = 'display_data';\n",
              "        await google.colab.output.renderOutput(dataTable, element);\n",
              "        const docLink = document.createElement('div');\n",
              "        docLink.innerHTML = docLinkHtml;\n",
              "        element.appendChild(docLink);\n",
              "      }\n",
              "    </script>\n",
              "  </div>\n",
              "\n",
              "\n",
              "<div id=\"df-cac67e2b-8224-404b-8d3f-12965262123d\">\n",
              "  <button class=\"colab-df-quickchart\" onclick=\"quickchart('df-cac67e2b-8224-404b-8d3f-12965262123d')\"\n",
              "            title=\"Suggest charts.\"\n",
              "            style=\"display:none;\">\n",
              "\n",
              "<svg xmlns=\"http://www.w3.org/2000/svg\" height=\"24px\"viewBox=\"0 0 24 24\"\n",
              "     width=\"24px\">\n",
              "    <g>\n",
              "        <path d=\"M19 3H5c-1.1 0-2 .9-2 2v14c0 1.1.9 2 2 2h14c1.1 0 2-.9 2-2V5c0-1.1-.9-2-2-2zM9 17H7v-7h2v7zm4 0h-2V7h2v10zm4 0h-2v-4h2v4z\"/>\n",
              "    </g>\n",
              "</svg>\n",
              "  </button>\n",
              "\n",
              "<style>\n",
              "  .colab-df-quickchart {\n",
              "      --bg-color: #E8F0FE;\n",
              "      --fill-color: #1967D2;\n",
              "      --hover-bg-color: #E2EBFA;\n",
              "      --hover-fill-color: #174EA6;\n",
              "      --disabled-fill-color: #AAA;\n",
              "      --disabled-bg-color: #DDD;\n",
              "  }\n",
              "\n",
              "  [theme=dark] .colab-df-quickchart {\n",
              "      --bg-color: #3B4455;\n",
              "      --fill-color: #D2E3FC;\n",
              "      --hover-bg-color: #434B5C;\n",
              "      --hover-fill-color: #FFFFFF;\n",
              "      --disabled-bg-color: #3B4455;\n",
              "      --disabled-fill-color: #666;\n",
              "  }\n",
              "\n",
              "  .colab-df-quickchart {\n",
              "    background-color: var(--bg-color);\n",
              "    border: none;\n",
              "    border-radius: 50%;\n",
              "    cursor: pointer;\n",
              "    display: none;\n",
              "    fill: var(--fill-color);\n",
              "    height: 32px;\n",
              "    padding: 0;\n",
              "    width: 32px;\n",
              "  }\n",
              "\n",
              "  .colab-df-quickchart:hover {\n",
              "    background-color: var(--hover-bg-color);\n",
              "    box-shadow: 0 1px 2px rgba(60, 64, 67, 0.3), 0 1px 3px 1px rgba(60, 64, 67, 0.15);\n",
              "    fill: var(--button-hover-fill-color);\n",
              "  }\n",
              "\n",
              "  .colab-df-quickchart-complete:disabled,\n",
              "  .colab-df-quickchart-complete:disabled:hover {\n",
              "    background-color: var(--disabled-bg-color);\n",
              "    fill: var(--disabled-fill-color);\n",
              "    box-shadow: none;\n",
              "  }\n",
              "\n",
              "  .colab-df-spinner {\n",
              "    border: 2px solid var(--fill-color);\n",
              "    border-color: transparent;\n",
              "    border-bottom-color: var(--fill-color);\n",
              "    animation:\n",
              "      spin 1s steps(1) infinite;\n",
              "  }\n",
              "\n",
              "  @keyframes spin {\n",
              "    0% {\n",
              "      border-color: transparent;\n",
              "      border-bottom-color: var(--fill-color);\n",
              "      border-left-color: var(--fill-color);\n",
              "    }\n",
              "    20% {\n",
              "      border-color: transparent;\n",
              "      border-left-color: var(--fill-color);\n",
              "      border-top-color: var(--fill-color);\n",
              "    }\n",
              "    30% {\n",
              "      border-color: transparent;\n",
              "      border-left-color: var(--fill-color);\n",
              "      border-top-color: var(--fill-color);\n",
              "      border-right-color: var(--fill-color);\n",
              "    }\n",
              "    40% {\n",
              "      border-color: transparent;\n",
              "      border-right-color: var(--fill-color);\n",
              "      border-top-color: var(--fill-color);\n",
              "    }\n",
              "    60% {\n",
              "      border-color: transparent;\n",
              "      border-right-color: var(--fill-color);\n",
              "    }\n",
              "    80% {\n",
              "      border-color: transparent;\n",
              "      border-right-color: var(--fill-color);\n",
              "      border-bottom-color: var(--fill-color);\n",
              "    }\n",
              "    90% {\n",
              "      border-color: transparent;\n",
              "      border-bottom-color: var(--fill-color);\n",
              "    }\n",
              "  }\n",
              "</style>\n",
              "\n",
              "  <script>\n",
              "    async function quickchart(key) {\n",
              "      const quickchartButtonEl =\n",
              "        document.querySelector('#' + key + ' button');\n",
              "      quickchartButtonEl.disabled = true;  // To prevent multiple clicks.\n",
              "      quickchartButtonEl.classList.add('colab-df-spinner');\n",
              "      try {\n",
              "        const charts = await google.colab.kernel.invokeFunction(\n",
              "            'suggestCharts', [key], {});\n",
              "      } catch (error) {\n",
              "        console.error('Error during call to suggestCharts:', error);\n",
              "      }\n",
              "      quickchartButtonEl.classList.remove('colab-df-spinner');\n",
              "      quickchartButtonEl.classList.add('colab-df-quickchart-complete');\n",
              "    }\n",
              "    (() => {\n",
              "      let quickchartButtonEl =\n",
              "        document.querySelector('#df-cac67e2b-8224-404b-8d3f-12965262123d button');\n",
              "      quickchartButtonEl.style.display =\n",
              "        google.colab.kernel.accessAllowed ? 'block' : 'none';\n",
              "    })();\n",
              "  </script>\n",
              "</div>\n",
              "    </div>\n",
              "  </div>\n"
            ]
          },
          "metadata": {},
          "execution_count": 16
        }
      ]
    },
    {
      "cell_type": "code",
      "source": [
        "#What was the item that more times was discounted?\n",
        "sql_query = ('''\n",
        "\n",
        "\n",
        "SELECT\n",
        "\n",
        "  Item_Code, Discount__Yes_No_, Quantity_Sold__kilo_,\n",
        "    C\n",
        "\n",
        "FROM supermarket_redi.sales\n",
        "  WHERE\n",
        "  Discount__Yes_No_ = TRUE\n",
        "  GROUP BY Item_Code, Discount__Yes_No_, Quantity_Sold__kilo_\n",
        "  ORDER BY discounted DESC\n",
        "''')\n",
        "\n",
        "df = client.query(sql_query).to_dataframe()\n",
        "df.head()"
      ],
      "metadata": {
        "id": "KEoeQCU_rD8N"
      },
      "execution_count": null,
      "outputs": []
    },
    {
      "cell_type": "code",
      "source": [
        "df.head()"
      ],
      "metadata": {
        "id": "30beHoDCuQKD"
      },
      "execution_count": null,
      "outputs": []
    }
  ]
}