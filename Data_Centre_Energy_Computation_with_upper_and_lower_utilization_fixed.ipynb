{
  "nbformat": 4,
  "nbformat_minor": 0,
  "metadata": {
    "colab": {
      "provenance": [],
      "authorship_tag": "ABX9TyMVkir8Vnm16ryLP2mO4wRW",
      "include_colab_link": true
    },
    "kernelspec": {
      "name": "python3",
      "display_name": "Python 3"
    },
    "language_info": {
      "name": "python"
    }
  },
  "cells": [
    {
      "cell_type": "markdown",
      "metadata": {
        "id": "view-in-github",
        "colab_type": "text"
      },
      "source": [
        "<a href=\"https://colab.research.google.com/github/Kpantigere/Batch_Fall_23_DataA_nalytics/blob/main/Data_Centre_Energy_Computation_with_upper_and_lower_utilization_fixed.ipynb\" target=\"_parent\"><img src=\"https://colab.research.google.com/assets/colab-badge.svg\" alt=\"Open In Colab\"/></a>"
      ]
    },
    {
      "cell_type": "code",
      "execution_count": 46,
      "metadata": {
        "id": "J1iQLPR1A2M1"
      },
      "outputs": [],
      "source": [
        "#Calculating annual energy consumption using the 95% and 40% scenerious as upper and lower limits\n",
        "def calculate_annual_energy_consumption(it_load, pue):\n",
        "  hours_per_day = 24\n",
        "  days_per_year = 365\n",
        "\n",
        "  utilisation_lower = 0.4\n",
        "  utilisation_upper = 0.95\n",
        "\n",
        "\n",
        "  daily_energy_consumption_lower = 0\n",
        "  daily_energy_consumption_upper = 0\n",
        "\n",
        "  for hour in range(hours_per_day):\n",
        "    total_it_load_mw_lower = it_load*pue*utilisation_lower\n",
        "    total_it_load_mw_upper = it_load*pue*utilisation_upper\n",
        "\n",
        "    daily_energy_consumption_lower+=total_it_load_mw_lower\n",
        "    daily_energy_consumption_upper+= total_it_load_mw_upper\n",
        "\n",
        "  annual_energy_consumption_lower = daily_energy_consumption_lower*days_per_year\n",
        "  annual_energy_consumption_upper = daily_energy_consumption_upper*days_per_year\n",
        "\n",
        "  return annual_energy_consumption_lower, annual_energy_consumption_upper\n",
        "\n",
        "\n"
      ]
    },
    {
      "cell_type": "code",
      "source": [
        "#Calculating fixed upper and lower utilisation rate\n",
        "annual_energy_consumption_lower,annual_energy_consumption_upper = calculate_annual_energy_consumption(it_load=4.5,pue=1.9)\n",
        "\n",
        "print(f'Annual_energy_consumption(lower limit: 40%): {annual_energy_consumption_lower: .2f} MW')\n",
        "print(f'Annual_energy_consumption(upper limit: 95%): {annual_energy_consumption_upper: .2f} MW')\n"
      ],
      "metadata": {
        "colab": {
          "base_uri": "https://localhost:8080/"
        },
        "id": "NF5aWrFzWZUb",
        "outputId": "9d2d86e9-a915-4e25-c298-afb137568f1c"
      },
      "execution_count": 49,
      "outputs": [
        {
          "output_type": "stream",
          "name": "stdout",
          "text": [
            "Annual_energy_consumption(lower limit: 40%):  29959.20 MW\n",
            "Annual_energy_consumption(upper limit: 95%):  71153.10 MW\n"
          ]
        }
      ]
    },
    {
      "cell_type": "code",
      "source": [],
      "metadata": {
        "id": "tgjR1Y4yU3VF"
      },
      "execution_count": null,
      "outputs": []
    },
    {
      "cell_type": "code",
      "source": [
        "#from os import putenv\n",
        "#def get_user_input(it_load,pue,utilisation):\n",
        "# it_load = float(input('Enter IT load: '))\n",
        "\n",
        " # while True:\n",
        "  #  try:\n",
        "      #pue = float(input('Enter pue in range 1.1 to 3.5: '))\n",
        "\n",
        "    #  if 1.1 <= pue <= 3.5:\n",
        "      #  break\n",
        "      #else:\n",
        "      #  print('Input is invalid')\n",
        "\n",
        "    #except ValueError:\n",
        "    #  print('Please enter numerical value')\n",
        "\n",
        "  #while True:\n",
        "   # try:\n",
        "  #    utilisation = float(input('Enter percentage utilisation: '))\n",
        "\n",
        "   #   if 40 <= utilisation:\n",
        "   #     break\n",
        "   #   else:\n",
        "   #     print('Please enter percentage value')\n",
        "\n",
        "   # except ValueError:\n",
        "    #  print('Please enter a numerical value')\n",
        "\n",
        "\n",
        "\n",
        "  return it_load, pue, utilisation"
      ],
      "metadata": {
        "id": "ULcmOTCnIkMf"
      },
      "execution_count": 34,
      "outputs": []
    },
    {
      "cell_type": "code",
      "source": [
        "#it_load = 4.5\n",
        "#pue = 1.9\n",
        "#utilisation = 0.45\n",
        "#it_load,pue,utilisation = get_user_input(it_load,pue,utilisation)\n",
        "\n",
        "\n",
        "#Calculating annual energy consumption for both upper and lower limit\n",
        "\n",
        "annual_energy_consumption_lower, annual_energy_consumption_upper = calculate_annual_energy_consumption(it_load=4.5,pue=1.9)\n",
        "\n",
        "print(f'Annual_energy_consumption(lower limit: 40%): {annual_energy_consumption_lower: .2f}')\n",
        "print(f'Annual_energy_consumption(upper limit: 95%): {annual_energy_consumption_upper: .2f}')"
      ],
      "metadata": {
        "colab": {
          "base_uri": "https://localhost:8080/",
          "height": 366
        },
        "id": "DdCHsh2dCzR2",
        "outputId": "fb122344-e9d8-454d-b8c5-6ce4ea67d412"
      },
      "execution_count": 41,
      "outputs": [
        {
          "output_type": "error",
          "ename": "UnboundLocalError",
          "evalue": "ignored",
          "traceback": [
            "\u001b[0;31m---------------------------------------------------------------------------\u001b[0m",
            "\u001b[0;31mUnboundLocalError\u001b[0m                         Traceback (most recent call last)",
            "\u001b[0;32m<ipython-input-41-1111c56d55e8>\u001b[0m in \u001b[0;36m<cell line: 9>\u001b[0;34m()\u001b[0m\n\u001b[1;32m      7\u001b[0m \u001b[0;31m#Calculating annual energy consumption for both upper and lower limit\u001b[0m\u001b[0;34m\u001b[0m\u001b[0;34m\u001b[0m\u001b[0m\n\u001b[1;32m      8\u001b[0m \u001b[0;34m\u001b[0m\u001b[0m\n\u001b[0;32m----> 9\u001b[0;31m \u001b[0mannual_energy_consumption_lower\u001b[0m\u001b[0;34m,\u001b[0m \u001b[0mannual_energy_consumption_upper\u001b[0m \u001b[0;34m=\u001b[0m \u001b[0mcalculate_annual_energy_consumption\u001b[0m\u001b[0;34m(\u001b[0m\u001b[0mit_load\u001b[0m\u001b[0;34m=\u001b[0m\u001b[0;36m4.5\u001b[0m\u001b[0;34m,\u001b[0m\u001b[0mpue\u001b[0m\u001b[0;34m=\u001b[0m\u001b[0;36m1.9\u001b[0m\u001b[0;34m)\u001b[0m\u001b[0;34m\u001b[0m\u001b[0;34m\u001b[0m\u001b[0m\n\u001b[0m\u001b[1;32m     10\u001b[0m \u001b[0;34m\u001b[0m\u001b[0m\n\u001b[1;32m     11\u001b[0m \u001b[0mprint\u001b[0m\u001b[0;34m(\u001b[0m\u001b[0;34mf'Annual_energy_consumption(lower limit: 40%): {annual_energy_consumption_lower: .2f}'\u001b[0m\u001b[0;34m)\u001b[0m\u001b[0;34m\u001b[0m\u001b[0;34m\u001b[0m\u001b[0m\n",
            "\u001b[0;32m<ipython-input-40-2a6b185082ad>\u001b[0m in \u001b[0;36mcalculate_annual_energy_consumption\u001b[0;34m(it_load, pue)\u001b[0m\n\u001b[1;32m     15\u001b[0m     \u001b[0mtotal_it_load_mw_upper\u001b[0m \u001b[0;34m=\u001b[0m \u001b[0mit_load\u001b[0m\u001b[0;34m*\u001b[0m\u001b[0mpue\u001b[0m\u001b[0;34m*\u001b[0m\u001b[0mutilisation_upper\u001b[0m\u001b[0;34m\u001b[0m\u001b[0;34m\u001b[0m\u001b[0m\n\u001b[1;32m     16\u001b[0m \u001b[0;34m\u001b[0m\u001b[0m\n\u001b[0;32m---> 17\u001b[0;31m     \u001b[0mdaily_energy_consumption_lower\u001b[0m\u001b[0;34m+=\u001b[0m\u001b[0mtotal_it_load_mw_lower\u001b[0m\u001b[0;34m\u001b[0m\u001b[0;34m\u001b[0m\u001b[0m\n\u001b[0m\u001b[1;32m     18\u001b[0m     \u001b[0mdaily_energy_consumption_upper_limit\u001b[0m\u001b[0;34m+=\u001b[0m \u001b[0mtotal_it_load_mw_upper\u001b[0m\u001b[0;34m\u001b[0m\u001b[0;34m\u001b[0m\u001b[0m\n\u001b[1;32m     19\u001b[0m \u001b[0;34m\u001b[0m\u001b[0m\n",
            "\u001b[0;31mUnboundLocalError\u001b[0m: local variable 'daily_energy_consumption_lower' referenced before assignment"
          ]
        }
      ]
    },
    {
      "cell_type": "code",
      "source": [
        "it_load = 4.5\n",
        "pue = 1.9\n",
        "utilisation = 0.9\n",
        "\n",
        "annual_energy_consumption = calculate_annual_energy_consumption(it_load,pue, utilisation)\n",
        "print(f'Annual_energy_consumption (Upper ban): {annual_energy_consumption: .2f}')"
      ],
      "metadata": {
        "colab": {
          "base_uri": "https://localhost:8080/"
        },
        "id": "cRi2YRRtDs4L",
        "outputId": "72a69c2b-a325-4bfc-ed68-ca99a2ce5892"
      },
      "execution_count": 24,
      "outputs": [
        {
          "output_type": "stream",
          "name": "stdout",
          "text": [
            "Annual_energy_consumption (Upper ban):  67408.20\n"
          ]
        }
      ]
    }
  ]
}