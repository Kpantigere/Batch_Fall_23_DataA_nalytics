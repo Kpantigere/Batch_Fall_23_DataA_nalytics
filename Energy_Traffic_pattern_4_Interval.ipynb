{
  "nbformat": 4,
  "nbformat_minor": 0,
  "metadata": {
    "colab": {
      "provenance": [],
      "authorship_tag": "ABX9TyNCb/ZINixJjl3NIOhwgE33",
      "include_colab_link": true
    },
    "kernelspec": {
      "name": "python3",
      "display_name": "Python 3"
    },
    "language_info": {
      "name": "python"
    }
  },
  "cells": [
    {
      "cell_type": "markdown",
      "metadata": {
        "id": "view-in-github",
        "colab_type": "text"
      },
      "source": [
        "<a href=\"https://colab.research.google.com/github/Kpantigere/Batch_Fall_23_DataA_nalytics/blob/main/Energy_Traffic_pattern_4_Interval.ipynb\" target=\"_parent\"><img src=\"https://colab.research.google.com/assets/colab-badge.svg\" alt=\"Open In Colab\"/></a>"
      ]
    },
    {
      "cell_type": "code",
      "execution_count": null,
      "metadata": {
        "id": "j-uYJPbpzfdn"
      },
      "outputs": [],
      "source": [
        "import numpy as pd\n",
        "\n",
        "def traffic_vol_util(traffic_vol, peak_traffic, low_peak_traffic):\n",
        "  if traffic_vol >= peak_traffic:\n",
        "    return 0.9\n",
        "  elif traffic_vol <= low_peak_traffic:\n",
        "    return 0.4\n",
        "  else:\n",
        "    slope = (0.9-0.4)/(peak_traffic-low_peak_traffic)\n",
        "    return 0.4 + slope * (traffic_vol-low_peak_traffic)\n",
        "\n"
      ]
    },
    {
      "cell_type": "code",
      "source": [
        "def create_traffic_pattern(peak_traffic, low_peak_traffic):\n",
        "  traffic_pattern = []\n",
        "\n",
        "  for i in range(6):\n",
        "\n",
        "    traffic_vol = float(input(f'Enter traffic volume at interval {i*4} to {(1+1)*4} hours (in kbits/s): '))\n",
        "    util_rate = traffic_vol_util(traffic_vol, peak_traffic, low_peak_traffic)\n",
        "    traffic_pattern.extend([util_rate]*4)\n",
        "\n",
        "  return(rate*100 for rate in traffic_pattern)\n",
        "\n"
      ],
      "metadata": {
        "id": "R2SkHTdA0yy6"
      },
      "execution_count": null,
      "outputs": []
    },
    {
      "cell_type": "code",
      "source": [
        "def traffic_to_util(traffic_percentage):\n",
        "  return traffic_percentage/100"
      ],
      "metadata": {
        "id": "_ZuCgD993n3K"
      },
      "execution_count": null,
      "outputs": []
    },
    {
      "cell_type": "code",
      "source": [
        "def calculate_anual_energy_consumption(it_load_mw, pue, traffic_pattern):\n",
        "  hours_per_day = 24\n",
        "  days_per_year = 365\n",
        "  daily_energy_consumption_mwh = 0\n",
        "\n",
        "  for hour in range(hours_per_day):\n",
        "    util_rate = traffic_to_util(traffic_pattern[hour])\n",
        "    total_it_load = it_load_mw*pue*traffic_pattern\n",
        "    daily_energy_consumption_mwh =+ total_it_load\n",
        "  annual_energy_consumption = daily_energy_consumption_mwh*days_per_year\n",
        "\n",
        "  print(daily_energy_consumption_mwh)\n",
        "  return annual_energy_consumption\n",
        "\n",
        "\n",
        "\n",
        "\n"
      ],
      "metadata": {
        "id": "lERAJcnm3poD"
      },
      "execution_count": null,
      "outputs": []
    },
    {
      "cell_type": "code",
      "source": [],
      "metadata": {
        "id": "3AqmFy0s_vhZ"
      },
      "execution_count": null,
      "outputs": []
    },
    {
      "cell_type": "code",
      "source": [
        "import numpy as np\n",
        "\n",
        "\n",
        "def traffic_vol_util(traffic_vol, peak_traffic, low_peak_traffic):\n",
        "\n",
        "  if traffic_vol >= peak_traffic:\n",
        "    return 0.9\n",
        "  elif traffic_vol <= low_peak_traffic:\n",
        "    return 0.4\n",
        "  else:\n",
        "    slope = (0.9-0.4)/(peak_traffic-low_peak_traffic)\n",
        "    return 0.4 + slope * (traffic_vol-low_peak_traffic)\n",
        "\n",
        "#def create_traffic_pattern(peak_traffic, low_peak_traffic):\n",
        "  #traffic_pattern = []\n",
        "\n",
        "  #for i in range(6):\n",
        "\n",
        "   # traffic_vol = float(input(f'Enter traffic volume at interval {i*4} to {(i+1)*4} hours (in kbits/s): '))\n",
        "    #utilization_rate = traffic_vol_util(traffic_vol, peak_traffic, low_peak_traffic)\n",
        "    #traffic_pattern.extend([utilization_rate]*4)\n",
        "\n",
        "  #return(rate*100 for rate in traffic_pattern)\n",
        "\n",
        "def create_traffic_pattern(peak_traffic, low_peak_traffic):\n",
        "    traffic_pattern = []\n",
        "    for i in range(6):\n",
        "        traffic_vol = float(input(f'Enter traffic volume at interval {i*4} to {(i+1)*4} hours (in kbits/s): '))\n",
        "        utilization_rate = traffic_vol_util(traffic_vol, peak_traffic, low_peak_traffic)\n",
        "        traffic_pattern.extend([utilization_rate]*4)\n",
        "    return [rate*100 for rate in traffic_pattern]\n",
        "\n",
        "def traffic_to_utilization(traffic_percentage):\n",
        "  return traffic_percentage/100\n",
        "\n",
        "#def calculate_anual_energy_consumption(it_load_mw, pue, traffic_pattern):\n",
        "    #hours_per_day = 24\n",
        "    #days_per_year = 365\n",
        "    #daily_energy_consumption_mwh = 0\n",
        "\n",
        "    #for hour in range(hours_per_day):\n",
        "        #utilization_rate = traffic_to_utilization(traffic_pattern[hour])\n",
        "        #total_it_load = it_load_mw * pue * utilization_rate  # Changed traffic_pattern to utilization_rate\n",
        "        #daily_energy_consumption_mwh += total_it_load        # Changed =+ to +=\n",
        "\n",
        "    #annual_energy_consumption_mwh = daily_energy_consumption_mwh * days_per_year\n",
        "\n",
        "    #return annual_energy_consumption_mwh\n",
        "\n",
        "def calculate_anual_energy_consumption(it_load_mw, pue, traffic_pattern):\n",
        "\n",
        "  hours_per_day = 24\n",
        "  days_per_year = 365\n",
        "  daily_energy_consumption_mwh = 0\n",
        "\n",
        "  for hour in range(hours_per_day):\n",
        "    utilization_rate = traffic_to_utilization(traffic_pattern[hour])\n",
        "    total_it_load = it_load_mw * pue * utilization_rate\n",
        "    daily_energy_consumption_mwh += total_it_load\n",
        "\n",
        "  annual_energy_consumption = daily_energy_consumption_mwh * days_per_year\n",
        "\n",
        "\n",
        "  return annual_energy_consumption\n",
        "\n",
        "peak_traffic = 449000000\n",
        "low_peak_traffic = 123000000\n",
        "\n",
        "traffic_pattern = create_traffic_pattern(peak_traffic, low_peak_traffic)\n",
        "\n",
        "it_load_mw = 0.6\n",
        "pue = 1.6\n",
        "\n",
        "annual_energy_consumption_mwh = calculate_anual_energy_consumption(it_load_mw=0.7425, pue=1.6,traffic_pattern=traffic_pattern)\n",
        "\n",
        "print(f'Annual Energy Consumption: {annual_energy_consumption_mwh: .2f}')"
      ],
      "metadata": {
        "colab": {
          "base_uri": "https://localhost:8080/"
        },
        "id": "WqQ4lZ687yTO",
        "outputId": "192b824b-5f3d-4141-a321-bad8298624a6"
      },
      "execution_count": null,
      "outputs": [
        {
          "output_type": "stream",
          "name": "stdout",
          "text": [
            "Enter traffic volume at interval 0 to 4 hours (in kbits/s): 445000000\n",
            "Enter traffic volume at interval 4 to 8 hours (in kbits/s): 490000000\n",
            "Enter traffic volume at interval 8 to 12 hours (in kbits/s): 250000000\n",
            "Enter traffic volume at interval 12 to 16 hours (in kbits/s): 145000000\n",
            "Enter traffic volume at interval 16 to 20 hours (in kbits/s): 350000000\n",
            "Enter traffic volume at interval 20 to 24 hours (in kbits/s): 450000000\n",
            "Annual Energy Consumption:  7754.08\n"
          ]
        }
      ]
    },
    {
      "cell_type": "code",
      "source": [],
      "metadata": {
        "id": "RVwH4hJ0J-9k"
      },
      "execution_count": null,
      "outputs": []
    },
    {
      "cell_type": "code",
      "source": [],
      "metadata": {
        "id": "Dr_Jzm0vJFmk"
      },
      "execution_count": null,
      "outputs": []
    }
  ]
}